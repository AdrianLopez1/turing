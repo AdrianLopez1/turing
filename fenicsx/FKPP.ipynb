{
 "cells": [
  {
   "cell_type": "code",
   "execution_count": 6,
   "id": "00a29fe1-92e5-4630-9fb0-974a24c16d43",
   "metadata": {
    "tags": []
   },
   "outputs": [],
   "source": [
    "import ufl\n",
    "import numpy\n",
    "\n",
    "from mpi4py import MPI\n",
    "from petsc4py import PETSc\n",
    "\n",
    "from dolfinx import mesh, fem, io, nls, log\n",
    "from dolfinx.fem.petsc import NonlinearProblem\n",
    "from dolfinx.nls.petsc import NewtonSolver\n",
    "\n",
    "def q(u):\n",
    "    return 1 + u**2\n",
    "\n",
    "\n",
    "domain = mesh.create_unit_square(MPI.COMM_WORLD, 10, 10)\n",
    "x = ufl.SpatialCoordinate(domain)\n",
    "u_ufl = 1 + x[0] + 2 * x[1]\n",
    "f = - ufl.div(q(u_ufl) * ufl.grad(u_ufl))"
   ]
  },
  {
   "cell_type": "code",
   "execution_count": 7,
   "id": "5a360e3d-a430-4e90-8c40-120f5b1f332f",
   "metadata": {
    "tags": []
   },
   "outputs": [],
   "source": [
    "V = fem.functionspace(domain, (\"Lagrange\", 1))\n",
    "def u_exact(x): return eval(str(u_ufl))"
   ]
  },
  {
   "cell_type": "code",
   "execution_count": 8,
   "id": "93cb1031-10cc-41ea-9ba9-4236c57d3c81",
   "metadata": {
    "tags": []
   },
   "outputs": [],
   "source": [
    "u_D = fem.Function(V)\n",
    "u_D.interpolate(u_exact)\n",
    "fdim = domain.topology.dim - 1\n",
    "boundary_facets = mesh.locate_entities_boundary(domain, fdim, lambda x: numpy.full(x.shape[1], True, dtype=bool))\n",
    "bc = fem.dirichletbc(u_D, fem.locate_dofs_topological(V, fdim, boundary_facets))"
   ]
  },
  {
   "cell_type": "code",
   "execution_count": 9,
   "id": "78d2089b-8876-403c-8621-9375d49a5dae",
   "metadata": {
    "tags": []
   },
   "outputs": [],
   "source": [
    "uh = fem.Function(V)\n",
    "v = ufl.TestFunction(V)\n",
    "F = q(uh) * ufl.dot(ufl.grad(uh), ufl.grad(v)) * ufl.dx - f * v * ufl.dx"
   ]
  },
  {
   "cell_type": "code",
   "execution_count": 10,
   "id": "de3f7b2a-f036-484e-a1fb-c8d9f63e3957",
   "metadata": {
    "tags": []
   },
   "outputs": [],
   "source": [
    "problem = NonlinearProblem(F, uh, bcs=[bc])"
   ]
  },
  {
   "cell_type": "code",
   "execution_count": 11,
   "id": "5abf0a48-2b54-41f2-8dc8-9e67050e4d97",
   "metadata": {
    "tags": []
   },
   "outputs": [],
   "source": [
    "solver = NewtonSolver(MPI.COMM_WORLD, problem)\n",
    "solver.convergence_criterion = \"incremental\"\n",
    "solver.rtol = 1e-6\n",
    "solver.report = True"
   ]
  },
  {
   "cell_type": "code",
   "execution_count": 12,
   "id": "6c46affc-2beb-4e06-9d36-bf37e751ff1f",
   "metadata": {
    "tags": []
   },
   "outputs": [],
   "source": [
    "ksp = solver.krylov_solver\n",
    "opts = PETSc.Options()\n",
    "option_prefix = ksp.getOptionsPrefix()\n",
    "opts[f\"{option_prefix}ksp_type\"] = \"gmres\"\n",
    "opts[f\"{option_prefix}ksp_rtol\"] = 1.0e-8\n",
    "opts[f\"{option_prefix}pc_type\"] = \"hypre\"\n",
    "opts[f\"{option_prefix}pc_hypre_type\"] = \"boomeramg\"\n",
    "opts[f\"{option_prefix}pc_hypre_boomeramg_max_iter\"] = 1\n",
    "opts[f\"{option_prefix}pc_hypre_boomeramg_cycle_type\"] = \"v\"\n",
    "ksp.setFromOptions()"
   ]
  },
  {
   "cell_type": "code",
   "execution_count": 13,
   "id": "85d313b7-b64a-4919-8246-d767c7283e75",
   "metadata": {
    "tags": []
   },
   "outputs": [
    {
     "name": "stdout",
     "output_type": "stream",
     "text": [
      "[2025-04-11 10:42:20.478] [info] PETSc Krylov solver starting to solve system.\n",
      "Number of interations: 8\n",
      "[2025-04-11 10:42:20.483] [info] PETSc Krylov solver starting to solve system.\n",
      "[2025-04-11 10:42:20.484] [info] Newton iteration 2: r (abs) = 20.37916572634953 (tol = 1e-10), r (rel) = 0.9225323398510273 (tol = 1e-06)\n",
      "[2025-04-11 10:42:20.484] [info] PETSc Krylov solver starting to solve system.\n",
      "[2025-04-11 10:42:20.484] [info] Newton iteration 3: r (abs) = 6.952713011092108 (tol = 1e-10), r (rel) = 0.31473823259321554 (tol = 1e-06)\n",
      "[2025-04-11 10:42:20.485] [info] PETSc Krylov solver starting to solve system.\n",
      "[2025-04-11 10:42:20.485] [info] Newton iteration 4: r (abs) = 2.935703719836482 (tol = 1e-10), r (rel) = 0.13289462670537117 (tol = 1e-06)\n",
      "[2025-04-11 10:42:20.485] [info] PETSc Krylov solver starting to solve system.\n",
      "[2025-04-11 10:42:20.485] [info] Newton iteration 5: r (abs) = 0.700589737775592 (tol = 1e-10), r (rel) = 0.03171458040748303 (tol = 1e-06)\n",
      "[2025-04-11 10:42:20.485] [info] PETSc Krylov solver starting to solve system.\n",
      "[2025-04-11 10:42:20.486] [info] Newton iteration 6: r (abs) = 0.04908059170012942 (tol = 1e-10), r (rel) = 0.0022218001320755696 (tol = 1e-06)\n",
      "[2025-04-11 10:42:20.486] [info] PETSc Krylov solver starting to solve system.\n",
      "[2025-04-11 10:42:20.486] [info] Newton iteration 7: r (abs) = 0.00029947987676642656 (tol = 1e-10), r (rel) = 1.3556976529927761e-05 (tol = 1e-06)\n",
      "[2025-04-11 10:42:20.486] [info] PETSc Krylov solver starting to solve system.\n",
      "[2025-04-11 10:42:20.486] [info] Newton iteration 8: r (abs) = 1.5276904716472388e-08 (tol = 1e-10), r (rel) = 6.91561118988603e-10 (tol = 1e-06)\n",
      "[2025-04-11 10:42:20.486] [info] Newton solver finished in 8 iterations and 33 linear solver iterations.\n"
     ]
    }
   ],
   "source": [
    "log.set_log_level(log.LogLevel.INFO)\n",
    "n, converged = solver.solve(uh)\n",
    "assert (converged)\n",
    "print(f\"Number of interations: {n:d}\")"
   ]
  },
  {
   "cell_type": "code",
   "execution_count": 14,
   "id": "c0bbcc64-1431-46cb-9f15-75209cde2259",
   "metadata": {
    "tags": []
   },
   "outputs": [
    {
     "name": "stdout",
     "output_type": "stream",
     "text": [
      "[2025-04-11 10:42:35.478] [info] Checking required entities per dimension\n",
      "[2025-04-11 10:42:35.478] [info] Cell type: 0 dofmap: 200x6\n",
      "[2025-04-11 10:42:35.478] [info] Global index computation\n",
      "[2025-04-11 10:42:35.478] [info] Got 2 index_maps\n",
      "[2025-04-11 10:42:35.478] [info] Get global indices\n",
      "L2-error: 6.30e-16\n",
      "Error_max: 4.44e-16\n"
     ]
    }
   ],
   "source": [
    "# Compute L2 error and error at nodes\n",
    "V_ex = fem.functionspace(domain, (\"Lagrange\", 2))\n",
    "u_ex = fem.Function(V_ex)\n",
    "u_ex.interpolate(u_exact)\n",
    "error_local = fem.assemble_scalar(fem.form((uh - u_ex)**2 * ufl.dx))\n",
    "error_L2 = numpy.sqrt(domain.comm.allreduce(error_local, op=MPI.SUM))\n",
    "if domain.comm.rank == 0:\n",
    "    print(f\"L2-error: {error_L2:.2e}\")\n",
    "\n",
    "# Compute values at mesh vertices\n",
    "error_max = domain.comm.allreduce(numpy.max(numpy.abs(uh.x.array - u_D.x.array)), op=MPI.MAX)\n",
    "if domain.comm.rank == 0:\n",
    "    print(f\"Error_max: {error_max:.2e}\")"
   ]
  },
  {
   "cell_type": "code",
   "execution_count": 19,
   "id": "ca16deff-4d80-4588-80a4-85829febdc47",
   "metadata": {
    "tags": []
   },
   "outputs": [
    {
     "ename": "AttributeError",
     "evalue": "'NewtonSolver' object has no attribute 'help'",
     "output_type": "error",
     "traceback": [
      "\u001b[0;31m---------------------------------------------------------------------------\u001b[0m",
      "\u001b[0;31mAttributeError\u001b[0m                            Traceback (most recent call last)",
      "Cell \u001b[0;32mIn[19], line 1\u001b[0m\n\u001b[0;32m----> 1\u001b[0m \u001b[43msolver\u001b[49m\u001b[38;5;241;43m.\u001b[39;49m\u001b[43mhelp\u001b[49m\n",
      "\u001b[0;31mAttributeError\u001b[0m: 'NewtonSolver' object has no attribute 'help'"
     ]
    }
   ],
   "source": [
    "solver.help"
   ]
  },
  {
   "cell_type": "code",
   "execution_count": null,
   "id": "eb730540-f8db-4320-99a0-c9969d4932bd",
   "metadata": {},
   "outputs": [],
   "source": []
  }
 ],
 "metadata": {
  "kernelspec": {
   "display_name": "Python 3 (ipykernel)",
   "language": "python",
   "name": "python3"
  },
  "language_info": {
   "codemirror_mode": {
    "name": "ipython",
    "version": 3
   },
   "file_extension": ".py",
   "mimetype": "text/x-python",
   "name": "python",
   "nbconvert_exporter": "python",
   "pygments_lexer": "ipython3",
   "version": "3.10.12"
  }
 },
 "nbformat": 4,
 "nbformat_minor": 5
}
