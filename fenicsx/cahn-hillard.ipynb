{
 "cells": [
  {
   "cell_type": "code",
   "execution_count": 1,
   "id": "13af457a-83ba-4711-8982-ae0fe3cf957f",
   "metadata": {
    "tags": []
   },
   "outputs": [],
   "source": [
    "import os\n",
    "\n",
    "try:\n",
    "    from petsc4py import PETSc\n",
    "\n",
    "    import dolfinx\n",
    "\n",
    "    if not dolfinx.has_petsc:\n",
    "        print(\"This demo requires DOLFINx to be compiled with PETSc enabled.\")\n",
    "        exit(0)\n",
    "except ModuleNotFoundError:\n",
    "    print(\"This demo requires petsc4py.\")\n",
    "    exit(0)\n",
    "\n",
    "from mpi4py import MPI\n",
    "\n",
    "import numpy as np\n",
    "\n",
    "import ufl\n",
    "from basix.ufl import element, mixed_element\n",
    "from dolfinx import default_real_type, log, plot\n",
    "from dolfinx.fem import Function, functionspace\n",
    "from dolfinx.fem.petsc import NonlinearProblem\n",
    "from dolfinx.io import XDMFFile\n",
    "from dolfinx.mesh import CellType, create_unit_square\n",
    "from dolfinx.nls.petsc import NewtonSolver\n",
    "from ufl import dx, grad, inner\n",
    "\n",
    "try:\n",
    "    import pyvista as pv\n",
    "    import pyvistaqt as pvqt\n",
    "\n",
    "    have_pyvista = True\n",
    "    if pv.OFF_SCREEN:\n",
    "        pv.start_xvfb(wait=0.5)\n",
    "except ModuleNotFoundError:\n",
    "    print(\"pyvista and pyvistaqt are required to visualise the solution\")\n",
    "    have_pyvista = False\n",
    "\n",
    "# Save all logging to file\n",
    "log.set_output_file(\"log.txt\")"
   ]
  },
  {
   "cell_type": "code",
   "execution_count": 2,
   "id": "e5954e16-77da-4654-a603-09f5da7f43a2",
   "metadata": {
    "tags": []
   },
   "outputs": [],
   "source": [
    "lmbda = 1.0e-02  # surface parameter\n",
    "dt = 5.0e-06  # time step\n",
    "theta = 0.5  # time stepping family, e.g. theta=1 -> backward Euler, theta=0.5 -> Crank-Nicholson"
   ]
  },
  {
   "cell_type": "code",
   "execution_count": 3,
   "id": "58712cce-d4ee-4355-8110-2efb9968867a",
   "metadata": {
    "tags": []
   },
   "outputs": [],
   "source": [
    "msh = create_unit_square(MPI.COMM_WORLD, 2, 2, CellType.triangle)\n",
    "P1 = element(\"Lagrange\", msh.basix_cell(), 1, dtype=default_real_type)\n",
    "ME = functionspace(msh, mixed_element([P1, P1]))"
   ]
  },
  {
   "cell_type": "code",
   "execution_count": 4,
   "id": "b121f325-6ff3-477a-a7f2-b66f0b070555",
   "metadata": {
    "tags": []
   },
   "outputs": [],
   "source": [
    "q, v = ufl.TestFunctions(ME)"
   ]
  },
  {
   "cell_type": "code",
   "execution_count": 5,
   "id": "3c77fe8e-05b7-44b3-b716-4021071bce5a",
   "metadata": {
    "tags": []
   },
   "outputs": [],
   "source": [
    "u = Function(ME)  # current solution\n",
    "u0 = Function(ME)  # solution from previous converged step\n",
    "\n",
    "# Split mixed functions\n",
    "c, mu = ufl.split(u)\n",
    "c0, mu0 = ufl.split(u0)"
   ]
  },
  {
   "cell_type": "code",
   "execution_count": 6,
   "id": "d753d664-96c9-4949-b014-8c555f4968b9",
   "metadata": {
    "tags": []
   },
   "outputs": [],
   "source": [
    "# Zero u\n",
    "u.x.array[:] = 0.0\n",
    "\n",
    "# Interpolate initial condition\n",
    "rng = np.random.default_rng(42)\n",
    "u.sub(0).interpolate(lambda x: 0.63 + 0.02 * (0.5 - rng.random(x.shape[1])))\n",
    "u.x.scatter_forward()"
   ]
  },
  {
   "cell_type": "code",
   "execution_count": 7,
   "id": "c71f01dc-fa5f-4f82-b7b7-a5a4ee4582bb",
   "metadata": {
    "tags": []
   },
   "outputs": [],
   "source": [
    "# Compute the chemical potential df/dc\n",
    "c = ufl.variable(c)\n",
    "f = 100 * c**2 * (1 - c) ** 2\n",
    "dfdc = ufl.diff(f, c)"
   ]
  },
  {
   "cell_type": "code",
   "execution_count": 8,
   "id": "42990313-f1b1-47f7-82d0-6aa656d310dc",
   "metadata": {
    "tags": []
   },
   "outputs": [],
   "source": [
    "# mu_(n+theta)\n",
    "mu_mid = (1.0 - theta) * mu0 + theta * mu"
   ]
  },
  {
   "cell_type": "code",
   "execution_count": 9,
   "id": "0bfad7c0-002c-4bd4-94fa-eb55616e16ed",
   "metadata": {
    "tags": []
   },
   "outputs": [],
   "source": [
    "# Weak statement of the equations\n",
    "F0 = inner(c, q) * dx - inner(c0, q) * dx + dt * inner(grad(mu_mid), grad(q)) * dx\n",
    "F1 = inner(mu, v) * dx - inner(dfdc, v) * dx - lmbda * inner(grad(c), grad(v)) * dx\n",
    "F = F0 + F1"
   ]
  },
  {
   "cell_type": "code",
   "execution_count": 10,
   "id": "8d7fb5b4-538c-4206-8818-eb0b4f4a5d6d",
   "metadata": {
    "tags": []
   },
   "outputs": [],
   "source": [
    "# Create nonlinear problem and Newton solver\n",
    "problem = NonlinearProblem(F, u)\n",
    "solver = NewtonSolver(MPI.COMM_WORLD, problem)\n",
    "solver.convergence_criterion = \"incremental\"\n",
    "solver.rtol = np.sqrt(np.finfo(default_real_type).eps) * 1e-2\n",
    "\n",
    "# We can customize the linear solver used inside the NewtonSolver by\n",
    "# modifying the PETSc options\n",
    "ksp = solver.krylov_solver\n",
    "opts = PETSc.Options()  # type: ignore\n",
    "option_prefix = ksp.getOptionsPrefix()\n",
    "opts[f\"{option_prefix}ksp_type\"] = \"preonly\"\n",
    "opts[f\"{option_prefix}pc_type\"] = \"lu\"\n",
    "sys = PETSc.Sys()  # type: ignore\n",
    "# For factorisation prefer superlu_dist, then MUMPS, then default\n",
    "if sys.hasExternalPackage(\"superlu_dist\"):\n",
    "    opts[f\"{option_prefix}pc_factor_mat_solver_type\"] = \"superlu_dist\"\n",
    "elif sys.hasExternalPackage(\"mumps\"):\n",
    "    opts[f\"{option_prefix}pc_factor_mat_solver_type\"] = \"mumps\"\n",
    "ksp.setFromOptions()"
   ]
  },
  {
   "cell_type": "code",
   "execution_count": 11,
   "id": "5f0f24ad-5644-4f12-933e-285081c59cfe",
   "metadata": {
    "tags": []
   },
   "outputs": [
    {
     "name": "stdout",
     "output_type": "stream",
     "text": [
      "setting up output mesh\n",
      "output mesh set up\n"
     ]
    }
   ],
   "source": [
    "# Output file\n",
    "print(\"setting up output mesh\")\n",
    "file = XDMFFile(MPI.COMM_WORLD, \"demo_ch/output.xdmf\", \"w\")\n",
    "file.write_mesh(msh)\n",
    "print('output mesh set up')"
   ]
  },
  {
   "cell_type": "code",
   "execution_count": 12,
   "id": "9c894c5f-8046-4270-a34e-b827cb01c7f3",
   "metadata": {
    "tags": []
   },
   "outputs": [],
   "source": [
    "# Step in time\n",
    "t = 0.0\n",
    "\n",
    "#  Reduce run time if on test (CI) server\n",
    "if \"CI\" in os.environ.keys() or \"GITHUB_ACTIONS\" in os.environ.keys():\n",
    "    T = 3 * dt\n",
    "else:\n",
    "    T = 50 * dt\n",
    "\n",
    "# Get the sub-space for c and the corresponding dofs in the mixed space\n",
    "# vector\n",
    "V0, dofs = ME.sub(0).collapse()"
   ]
  },
  {
   "cell_type": "code",
   "execution_count": 13,
   "id": "a8e882d6-2e2d-4eaf-afb9-14df70bd9080",
   "metadata": {
    "tags": []
   },
   "outputs": [
    {
     "data": {
      "application/vnd.jupyter.widget-view+json": {
       "model_id": "17a7791c00cd4627b8e23573462fd1ce",
       "version_major": 2,
       "version_minor": 0
      },
      "text/plain": [
       "Widget(value='<iframe src=\"http://localhost:38033/index.html?ui=P_0x7fb5373ca920_0&reconnect=auto\" class=\"pyvi…"
      ]
     },
     "metadata": {},
     "output_type": "display_data"
    }
   ],
   "source": [
    "# plot mesh\n",
    "import pyvista \n",
    "\n",
    "if have_pyvista:\n",
    "    cells, types, x = plot.vtk_mesh(V0)\n",
    "    grid = pyvista.UnstructuredGrid(cells, types, x)\n",
    "    # grid.point_data[\"u\"] = uh.x.array.real\n",
    "    # grid.set_active_scalars(\"u\")\n",
    "    plotter = pyvista.Plotter()\n",
    "    plotter.add_mesh(grid, show_edges=True)\n",
    "    # warped = grid.warp_by_scalar()\n",
    "    # plotter.add_mesh(warped)\n",
    "    if pyvista.OFF_SCREEN:\n",
    "        pyvista.start_xvfb(wait=0.1)\n",
    "        plotter.screenshot(\"uh_poisson.png\")\n",
    "    else:\n",
    "        plotter.show()"
   ]
  },
  {
   "cell_type": "code",
   "execution_count": 14,
   "id": "48693b92-ba09-4cbc-bf1e-e5ddc97bd7e0",
   "metadata": {
    "tags": []
   },
   "outputs": [
    {
     "name": "stdout",
     "output_type": "stream",
     "text": [
      "pyvista set up\n"
     ]
    }
   ],
   "source": [
    "# Prepare viewer for plotting the solution during the computation\n",
    "if have_pyvista:\n",
    "    # Create a VTK 'mesh' with 'nodes' at the function dofs\n",
    "    topology, cell_types, x = plot.vtk_mesh(V0)\n",
    "    # grid = pv.UnstructuredGrid(topology, cell_types, x)\n",
    "\n",
    "#     # Set output data\n",
    "#     grid.point_data[\"c\"] = u.x.array[dofs].real\n",
    "#     grid.set_active_scalars(\"c\")\n",
    "\n",
    "#     p = pvqt.BackgroundPlotter(title=\"concentration\", auto_update=True)\n",
    "#     p.add_mesh(grid, clim=[0, 1])\n",
    "#     p.view_xy(True)\n",
    "#     p.add_text(f\"time: {t}\", font_size=12, name=\"timelabel\")\n",
    "    \n",
    "print(\"pyvista set up\")"
   ]
  },
  {
   "cell_type": "code",
   "execution_count": 15,
   "id": "26795622-3921-44f2-b19c-d9eac94b663e",
   "metadata": {
    "tags": []
   },
   "outputs": [
    {
     "name": "stdout",
     "output_type": "stream",
     "text": [
      "0.0\n",
      "Step 1: num iterations: 3\n"
     ]
    },
    {
     "ename": "NameError",
     "evalue": "name 'p' is not defined",
     "output_type": "error",
     "traceback": [
      "\u001b[0;31m---------------------------------------------------------------------------\u001b[0m",
      "\u001b[0;31mNameError\u001b[0m                                 Traceback (most recent call last)",
      "Cell \u001b[0;32mIn[15], line 13\u001b[0m\n\u001b[1;32m     11\u001b[0m \u001b[38;5;66;03m# Update the plot window\u001b[39;00m\n\u001b[1;32m     12\u001b[0m \u001b[38;5;28;01mif\u001b[39;00m have_pyvista:\n\u001b[0;32m---> 13\u001b[0m     \u001b[43mp\u001b[49m\u001b[38;5;241m.\u001b[39madd_text(\u001b[38;5;124mf\u001b[39m\u001b[38;5;124m\"\u001b[39m\u001b[38;5;124mtime: \u001b[39m\u001b[38;5;132;01m{\u001b[39;00mt\u001b[38;5;132;01m:\u001b[39;00m\u001b[38;5;124m.2e\u001b[39m\u001b[38;5;132;01m}\u001b[39;00m\u001b[38;5;124m\"\u001b[39m, font_size\u001b[38;5;241m=\u001b[39m\u001b[38;5;241m12\u001b[39m, name\u001b[38;5;241m=\u001b[39m\u001b[38;5;124m\"\u001b[39m\u001b[38;5;124mtimelabel\u001b[39m\u001b[38;5;124m\"\u001b[39m)\n\u001b[1;32m     14\u001b[0m     grid\u001b[38;5;241m.\u001b[39mpoint_data[\u001b[38;5;124m\"\u001b[39m\u001b[38;5;124mc\u001b[39m\u001b[38;5;124m\"\u001b[39m] \u001b[38;5;241m=\u001b[39m u\u001b[38;5;241m.\u001b[39mx\u001b[38;5;241m.\u001b[39marray[dofs]\u001b[38;5;241m.\u001b[39mreal\n\u001b[1;32m     15\u001b[0m     p\u001b[38;5;241m.\u001b[39mapp\u001b[38;5;241m.\u001b[39mprocessEvents()\n",
      "\u001b[0;31mNameError\u001b[0m: name 'p' is not defined"
     ]
    }
   ],
   "source": [
    "c = u.sub(0)\n",
    "u0.x.array[:] = u.x.array\n",
    "while t < T:\n",
    "    print(t)\n",
    "    t += dt\n",
    "    r = solver.solve(u)\n",
    "    print(f\"Step {int(t / dt)}: num iterations: {r[0]}\")\n",
    "    u0.x.array[:] = u.x.array\n",
    "    file.write_function(c, t)\n",
    "\n",
    "    # Update the plot window\n",
    "    if have_pyvista:\n",
    "        p.add_text(f\"time: {t:.2e}\", font_size=12, name=\"timelabel\")\n",
    "        grid.point_data[\"c\"] = u.x.array[dofs].real\n",
    "        p.app.processEvents()\n",
    "\n",
    "file.close()\n",
    "\n",
    "# Update ghost entries and plot\n",
    "if have_pyvista:\n",
    "    u.x.scatter_forward()\n",
    "    grid.point_data[\"c\"] = u.x.array[dofs].real\n",
    "    screenshot = None\n",
    "    if pv.OFF_SCREEN:\n",
    "        screenshot = \"c.png\"\n",
    "    pv.plot(grid, show_edges=True, screenshot=screenshot)"
   ]
  },
  {
   "cell_type": "code",
   "execution_count": null,
   "id": "f35ac2dd-1b14-4719-8699-2c66a5bb7563",
   "metadata": {},
   "outputs": [],
   "source": []
  }
 ],
 "metadata": {
  "kernelspec": {
   "display_name": "Python 3 (ipykernel)",
   "language": "python",
   "name": "python3"
  },
  "language_info": {
   "codemirror_mode": {
    "name": "ipython",
    "version": 3
   },
   "file_extension": ".py",
   "mimetype": "text/x-python",
   "name": "python",
   "nbconvert_exporter": "python",
   "pygments_lexer": "ipython3",
   "version": "3.10.12"
  }
 },
 "nbformat": 4,
 "nbformat_minor": 5
}
