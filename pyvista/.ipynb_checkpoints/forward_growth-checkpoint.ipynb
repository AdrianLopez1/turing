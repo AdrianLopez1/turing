{
 "cells": [
  {
   "cell_type": "code",
   "execution_count": 1,
   "id": "eb452a76-ed24-4205-bc48-a3737dc0d339",
   "metadata": {
    "tags": []
   },
   "outputs": [],
   "source": [
    "import pyvista as pv\n",
    "import numpy as np\n",
    "import scipy.sparse as sp\n",
    "import matplotlib.pyplot as plt\n",
    "import sys\n",
    "np.random.seed(0)"
   ]
  },
  {
   "cell_type": "code",
   "execution_count": 35,
   "id": "cf32bc36-931a-4aa8-a551-4d0edf8b990a",
   "metadata": {
    "tags": []
   },
   "outputs": [],
   "source": [
    "# import mesh\n",
    "# filename = 'inputs/nut.ply'\n",
    "filename = 'inputs/sphere.ply'\n",
    "# filename = 'inputs/cow.vtp'\n",
    "# filename = 'panther.stl'\n",
    "mesh = pv.read(filename)\n",
    "\n",
    "\n",
    "mesh = mesh.triangulate()\n",
    "mesh = mesh.decimate(0.7)\n",
    "mesh = mesh.triangulate()\n",
    "\n",
    "# stretch points along z for ellipse\n",
    "# mesh.points[:,2] *= 20\n",
    "\n",
    "# pl = pv.Plotter()\n",
    "# _ = pl.add_mesh(mesh, show_edges=True)\n",
    "# _ = pl.add_axes_at_origin(ylabel=None)\n",
    "# pl.camera_position = 'xz'\n",
    "# pl.show()"
   ]
  },
  {
   "cell_type": "code",
   "execution_count": 36,
   "id": "429a91a9-d827-4b41-87bc-e5fd165d2374",
   "metadata": {
    "tags": []
   },
   "outputs": [],
   "source": [
    "# forward problem with growth\n",
    "\n",
    "# forward problem params\n",
    "nx = mesh.n_points\n",
    "niter = 1000\n",
    "dt = 0.0001\n",
    "# dx = .1 # good for decimated cow\n",
    "dx = .002/2 # good for decimated sphere"
   ]
  },
  {
   "cell_type": "code",
   "execution_count": 37,
   "id": "e6a0e198-800c-4be9-8c19-d838bbd60703",
   "metadata": {
    "tags": []
   },
   "outputs": [],
   "source": [
    "# solve simple inverse problem for growth\n",
    "# to end with mesh starting from sphere\n",
    "\n",
    "# initialize points\n",
    "pts = np.zeros((nx, 3, niter+1))\n",
    "pts[:,:,0] = mesh.points.copy()\n",
    "\n",
    "\n",
    "# get each point's distance from origin\n",
    "dist = np.sqrt(np.sum(pts[:,:,0]**2, axis=1)) \n",
    "\n",
    "# construct final points: a sphere, by shrinking by distance factors\n",
    "pts[:,:,-1] = np.einsum('ui,u->ui', pts[:,:,0], 1/dist)\n",
    "\n",
    "# make final points partway between sphere and full shape to avoid singularities\n",
    "pts[:,:,-1] = 0.5*pts[:,:,0] + 0.5*pts[:,:,-1]\n",
    "\n",
    "# interpolate points in between\n",
    "for i in range(1, niter):\n",
    "    pts[:,:,i] = (1-i/niter) * pts[:,:,0] + i/niter * pts[:,:,-1]\n",
    "    # print(i/(niter-1))\n",
    "    # print(i)\n",
    "    \n",
    "# reverse time ordering to go from shrinking to growing\n",
    "pts_flipped = np.flip(pts, axis=2)\n",
    "\n",
    "# write result to disk\n",
    "np.save('pts.npy', pts_flipped)"
   ]
  },
  {
   "cell_type": "code",
   "execution_count": 48,
   "id": "b07ff4f6-d2cc-4534-bae7-09cea04ffaa5",
   "metadata": {
    "tags": []
   },
   "outputs": [
    {
     "name": "stdout",
     "output_type": "stream",
     "text": [
      "\n",
      "Growth loop completed.\n"
     ]
    }
   ],
   "source": [
    "# growth\n",
    "# updates mesh points and calculates laplacians\n",
    "from mesh_laplacian import compute_mesh_laplacian\n",
    "\n",
    "grow = False # whether to calculate a new laplacian at each point in time\n",
    "            # or just copy them all from initial point\n",
    "\n",
    "\n",
    "grow_from_rule = False # True = grow via assigned growth rule\n",
    "                      # False = read growth from file\n",
    "\n",
    "if grow:\n",
    "    \n",
    "    if grow_from_rule:\n",
    "        # growth params\n",
    "        growth_rate = 1.001\n",
    "\n",
    "        # initialize points \n",
    "        pts = np.zeros((nx, 3, niter+1))\n",
    "        pts[:,:,0] = mesh.points.copy()\n",
    "\n",
    "    else:\n",
    "        # reads points from file\n",
    "        pts = np.load('pts.npy')\n",
    "\n",
    "    # initialize laplacians\n",
    "    laps = np.zeros((nx, nx, niter+1))\n",
    "    laps[:,:,0] = compute_mesh_laplacian(mesh)\n",
    "\n",
    "\n",
    "    # run growth loop\n",
    "    print(\"Beginning growth loop...\")\n",
    "    for i in range(niter):\n",
    "        sys.stdout.write(\"\\rIteration {0}/{1} ({2}%)\".format(i+1, niter, int(100*(i+1)/niter)))\n",
    "        sys.stdout.flush()\n",
    "\n",
    "        if grow_from_rule:\n",
    "            # update points according to growth rule\n",
    "            # pts[:,:,i+1] = pts[:,:,i] * np.random.uniform(1.0, growth_rate, (nx, 3)) # randomly growing isotropically\n",
    "\n",
    "            # pts[:,:,i+1] = pts[:,:,i] \n",
    "            # pts[:,2,i+1] = pts[:,2,i] *  np.random.uniform(1.0, growth_rate, nx) # randomly growing in z direction \n",
    "            \n",
    "            pts = pts[:,:,0] * growth_rate * dt * i # uniform additive isotropic growth\n",
    "\n",
    "        mesh.points = pts[:,:,i+1]\n",
    "\n",
    "        # calculate laplacian\n",
    "        laps[:,:,i+1] = compute_mesh_laplacian(mesh)\n",
    "\n",
    "    # reset mesh points\n",
    "    mesh.points = pts[:,:,0]\n",
    "    \n",
    "else:\n",
    "    # initialize points \n",
    "    pts = np.zeros((nx, 3, niter+1))\n",
    "    pts[:,:,0] = mesh.points.copy()\n",
    "    \n",
    "    # copy initial points to all times\n",
    "    pts = np.stack((pts[:,:,0],) * (niter+1), axis=2)\n",
    "\n",
    "        \n",
    "    # initialize laplacians\n",
    "    laps = np.zeros((nx, nx, niter+1))\n",
    "    laps[:,:,0] = compute_mesh_laplacian(mesh)\n",
    "\n",
    "    # copy initial laplacian to all times\n",
    "    laps = np.stack((laps[:,:,0],) * (niter+1), axis=2)\n",
    "\n",
    "print(\"\\nGrowth loop completed.\")\n",
    "\n",
    "# write results to disk\n",
    "np.save('laps.npy', laps)"
   ]
  },
  {
   "cell_type": "code",
   "execution_count": 49,
   "id": "12512621-af90-42f5-b785-b07776ae7d3b",
   "metadata": {
    "tags": []
   },
   "outputs": [
    {
     "name": "stdout",
     "output_type": "stream",
     "text": [
      "Beginning RD integration loop...\n",
      "Iteration 1000/1000 (100%)\n",
      "RD loop completed.\n"
     ]
    }
   ],
   "source": [
    "# RD integration\n",
    "from forward import step_se\n",
    "\n",
    "# RD params\n",
    "du = 1\n",
    "dv = 10\n",
    "g = 1000 # set to zero to just test diffusion\n",
    "a = 0.126779*0.25\n",
    "b = 1.1\n",
    "\n",
    "# initialize fields near steady-state solution\n",
    "u = np.ones(nx, dtype=float)*(a+b)\n",
    "u += np.random.normal(scale=0.01, size=nx)\n",
    "v = np.ones(nx, dtype=float)*(b/(a+b)**2)\n",
    "\n",
    "u_stored = np.zeros((nx, niter+1))\n",
    "u_stored[:,0] = u\n",
    "\n",
    "v_stored = np.zeros((nx, niter+1))\n",
    "v_stored[:,0] = v\n",
    "\n",
    "\n",
    "integrate = True\n",
    "\n",
    "if integrate:\n",
    "    print(\"Beginning RD integration loop...\")\n",
    "    for i in range(niter):\n",
    "        sys.stdout.write(\"\\rIteration {0}/{1} ({2}%)\".format(i+1, niter, int(100*(i+1)/niter)))\n",
    "        sys.stdout.flush()\n",
    "\n",
    "        # Run GMRES to solve for next timestep\n",
    "        # reference calculated laplacians from growth loop\n",
    "        u, v = step_se(u,v, a,b,g,du,dv, laps[:,:,i], dx,nx,dt)\n",
    "\n",
    "        # store for later animation\n",
    "        u_stored[:,i+1] = u\n",
    "        v_stored[:,i+1] = v\n",
    "\n",
    "\n",
    "    print(\"\\nRD loop completed.\")\n",
    "   \n",
    "# write solution onto mesh\n",
    "mesh.point_data['u'] = u\n",
    "mesh.point_data['v'] = v"
   ]
  },
  {
   "cell_type": "code",
   "execution_count": 50,
   "id": "ae5903ea-f231-468c-b438-5e057889d86e",
   "metadata": {
    "tags": []
   },
   "outputs": [
    {
     "name": "stdout",
     "output_type": "stream",
     "text": [
      "Beginning plotting loop...\n",
      "Iteration 1000/1000 (100%)\n",
      "Plotting loop completed.\n",
      "Plotting completed.\n"
     ]
    }
   ],
   "source": [
    "# run plotting \n",
    "# pts = np.load('pts.npy')\n",
    "\n",
    "# Set up plotting\n",
    "plotting = 'static'\n",
    "plotting = 'dynamic'\n",
    "skip = 25\n",
    "\n",
    "if plotting == 'static':\n",
    "    p = pv.Plotter(shape=(1,4), notebook=0)\n",
    "    mesh.point_data['u'] = u\n",
    "    p.add_mesh(mesh.copy(), scalars='u', cmap='gray')\n",
    "    \n",
    "    def plot_mesh(u, subplot):\n",
    "        mesh.point_data['u'] = u\n",
    "        p.subplot(0,subplot)\n",
    "        p.add_mesh(mesh.copy(), scalars='u', cmap='gray')\n",
    "        p.link_views()\n",
    "        p.view_isometric()\n",
    "   \n",
    "elif plotting == 'dynamic':\n",
    "    mesh.points = pts[:,:,-1]\n",
    "    plotter = pv.Plotter(notebook=False, off_screen=True)\n",
    "    plotter.add_mesh(\n",
    "        mesh.rotate_y(-45),\n",
    "        scalars=u,\n",
    "        lighting=False,\n",
    "        show_edges=True,\n",
    "        scalar_bar_args={\"title\": \"u\"},\n",
    "        clim=[u_stored.min(), u_stored.max()],\n",
    "        cmap='hot'\n",
    "    )\n",
    "    plotter.camera_position = 'xy'\n",
    "\n",
    "    # Open a gif\n",
    "    plotter.open_gif(\"growth_test.gif\")\n",
    "    # plotter.camera.zoom(0.8) # have to zoom out to accomodate growth\n",
    "                             # would be nice if I could get around this by plotting final mesh first\n",
    "        \n",
    "\n",
    "\n",
    "print(\"Beginning plotting loop...\")\n",
    "for i in range(niter):\n",
    "    sys.stdout.write(\"\\rIteration {0}/{1} ({2}%)\".format(i+1, niter, int(100*(i+1)/niter)))\n",
    "    sys.stdout.flush()\n",
    "    if plotting == 'static':\n",
    "        if i==int(niter/3):\n",
    "            mesh.points = pts[:,:,i]\n",
    "            plot_mesh(u_stored[:,i], 1)\n",
    "\n",
    "        if i==int(niter*2/3):\n",
    "            mesh.points = pts[:,:,i]\n",
    "            plot_mesh(u_stored[:,i], 2)\n",
    "\n",
    "        if i==niter-1:\n",
    "            mesh.points = pts[:,:,i]\n",
    "            plot_mesh(u_stored[:,i], 3)\n",
    "            \n",
    "    elif plotting == 'dynamic':\n",
    "        if i%skip==0:\n",
    "            plotter.update_coordinates(pts[:,:,i], render=False)\n",
    "            plotter.update_scalars(u_stored[:,i], render=False)\n",
    "\n",
    "            # Write a frame. This triggers a render.\n",
    "            plotter.write_frame()\n",
    "\n",
    "print(\"\\nPlotting loop completed.\")\n",
    "      \n",
    "\n",
    "\n",
    "# p = pv.Plotter(shape=(1,1), notebook=0)\n",
    "# mesh.point_data['turing'] = u\n",
    "# p.add_mesh(mesh, scalars='turing', cmap='gray')      \n",
    "if plotting == 'static': p.show()\n",
    "elif plotting == 'dynamic': plotter.close()\n",
    "\n",
    "print(\"Plotting completed.\")\n",
    "# plt.show()\n",
    "# print(u, info)"
   ]
  },
  {
   "cell_type": "markdown",
   "id": "3c18c2ba-ae04-4473-87b0-c202b079673e",
   "metadata": {},
   "source": [
    "Computing laplacian at each step is way too slow. But I don't see a way around it.\n",
    "\n",
    "Might be best to run growth and RD separately: first do growth and calculate laplacians, then do RD and reference calculated laplacians. Then I can also separate the animation loop."
   ]
  },
  {
   "cell_type": "markdown",
   "id": "10d49c6a-c7b1-4f98-a19f-83de8b86a60a",
   "metadata": {},
   "source": [
    "Example growth rule: sphere into cow\n",
    "\n",
    "Get rule by first shrinking cow into sphere."
   ]
  },
  {
   "cell_type": "code",
   "execution_count": 37,
   "id": "0bd8a8d1-a9e6-44b8-826f-2301b8a7fb26",
   "metadata": {
    "tags": []
   },
   "outputs": [
    {
     "data": {
      "application/vnd.jupyter.widget-view+json": {
       "model_id": "9237382e799745d2a5808dbd0a583218",
       "version_major": 2,
       "version_minor": 0
      },
      "text/plain": [
       "Widget(value='<iframe src=\"http://localhost:39453/index.html?ui=P_0x7f9e747dbca0_13&reconnect=auto\" class=\"pyv…"
      ]
     },
     "metadata": {},
     "output_type": "display_data"
    }
   ],
   "source": [
    "# create new mesh with these points to visualize\n",
    "new_mesh = mesh.copy()\n",
    "new_mesh.points = pts_flipped[:,:,10]\n",
    "\n",
    "pl = pv.Plotter()\n",
    "_ = pl.add_mesh(new_mesh, show_edges=True)\n",
    "_ = pl.add_axes_at_origin(ylabel=None)\n",
    "pl.camera_position = 'xy'\n",
    "pl.show()"
   ]
  },
  {
   "cell_type": "code",
   "execution_count": 9,
   "id": "a398a3df-1f19-4bd7-b9a3-428b4704e62c",
   "metadata": {},
   "outputs": [
    {
     "data": {
      "text/plain": [
       "array([[1, 1, 1, 1],\n",
       "       [2, 2, 2, 2],\n",
       "       [3, 3, 3, 3]])"
      ]
     },
     "execution_count": 9,
     "metadata": {},
     "output_type": "execute_result"
    }
   ],
   "source": [
    "a = np.array([1,2,3])\n",
    "\n",
    "result = np.stack((a,) * 4, axis=1)\n",
    "\n",
    "result"
   ]
  },
  {
   "cell_type": "code",
   "execution_count": 47,
   "id": "e59aa48a-bb24-4b66-9aa8-437f939493aa",
   "metadata": {
    "tags": []
   },
   "outputs": [
    {
     "data": {
      "text/plain": [
       "array([10.11821646, 10.12817832, 10.13814018, ..., 20.0601544 ,\n",
       "       20.07011626, 20.08007812])"
      ]
     },
     "execution_count": 47,
     "metadata": {},
     "output_type": "execute_result"
    }
   ],
   "source": [
    "pts[0,0,:]"
   ]
  },
  {
   "cell_type": "code",
   "execution_count": null,
   "id": "93394a2c-ba33-4ad5-bdb8-387eeb214ed5",
   "metadata": {},
   "outputs": [],
   "source": []
  }
 ],
 "metadata": {
  "kernelspec": {
   "display_name": "Python 3 (ipykernel)",
   "language": "python",
   "name": "python3"
  },
  "language_info": {
   "codemirror_mode": {
    "name": "ipython",
    "version": 3
   },
   "file_extension": ".py",
   "mimetype": "text/x-python",
   "name": "python",
   "nbconvert_exporter": "python",
   "pygments_lexer": "ipython3",
   "version": "3.10.12"
  }
 },
 "nbformat": 4,
 "nbformat_minor": 5
}
