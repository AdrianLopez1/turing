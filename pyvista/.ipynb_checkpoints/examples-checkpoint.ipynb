{
 "cells": [
  {
   "cell_type": "code",
   "execution_count": 1,
   "id": "9497094d-ac1a-4b1b-8359-ba5c450b3826",
   "metadata": {
    "tags": []
   },
   "outputs": [],
   "source": [
    "import pyvista as pv\n",
    "import numpy as np\n",
    "np.random.seed(0)\n",
    "\n",
    "import forward_growth\n",
    "import inverse_growth"
   ]
  },
  {
   "cell_type": "markdown",
   "id": "3a38adad-f377-42e9-b925-84019ff84442",
   "metadata": {},
   "source": [
    "## Fast-growing sphere destroys patterns"
   ]
  },
  {
   "cell_type": "code",
   "execution_count": null,
   "id": "9c498d2d-c7a9-4de5-883a-0df55f61a279",
   "metadata": {
    "tags": []
   },
   "outputs": [],
   "source": [
    "# import mesh\n",
    "filename = 'inputs/sphere.ply'\n",
    "mesh = pv.read(filename)\n",
    "\n",
    "mesh = mesh.triangulate()\n",
    "mesh = mesh.decimate(0.7)\n",
    "mesh = mesh.triangulate()\n",
    "\n",
    "# integration params\n",
    "nx = mesh.n_points\n",
    "niter = 1000\n",
    "dt = 0.0001\n",
    "dx = .002/2 # good for decimated sphere\n",
    "\n",
    "# RD params\n",
    "du = 1\n",
    "dv = 10\n",
    "g = 1000 # set to zero to just test diffusion\n",
    "a = 0.126779*0.25\n",
    "b = 1.1\n",
    "\n",
    "# filenames\n",
    "pts_file = 'examples/pts_static_sphere.npy'\n",
    "laps_file = 'examples/laps_static_sphere.npy'\n",
    "output_gif = 'examples/static_sphere.gif'\n"
   ]
  },
  {
   "cell_type": "code",
   "execution_count": null,
   "id": "8f0a7c5f-3013-4623-9dac-1e67e8beb188",
   "metadata": {
    "tags": []
   },
   "outputs": [],
   "source": [
    "# grow sphere\n",
    "forward_growth.grow_forward(mesh, nx, niter, dt, growth_rate=1/dt, grow=True, grow_from_rule=True, pts_output=pts_file, laps_output=laps_file)"
   ]
  },
  {
   "cell_type": "code",
   "execution_count": null,
   "id": "12776728-9dc0-45bb-b43e-5bc5372c3046",
   "metadata": {
    "tags": []
   },
   "outputs": [],
   "source": [
    "# integrate RD\n",
    "laps = np.load(laps_file)\n",
    "u_stored, v_stored = forward_growth.rd_forward(du, dv, g, a, b, nx, dx, niter, dt, laps)"
   ]
  },
  {
   "cell_type": "code",
   "execution_count": null,
   "id": "0aefa43a-d42e-4467-8876-d7b8edba0647",
   "metadata": {
    "tags": []
   },
   "outputs": [],
   "source": [
    "# plot result\n",
    "pts = np.load(pts_file)\n",
    "forward_growth.plot_forward(mesh, u_stored, pts, niter, nskip=2, output_gif=output_gif)\n"
   ]
  },
  {
   "cell_type": "markdown",
   "id": "899e6986-551b-4619-ad96-5d7a697e970d",
   "metadata": {},
   "source": [
    "## Static sphere allows pattern to form"
   ]
  },
  {
   "cell_type": "code",
   "execution_count": null,
   "id": "a0e37e8c-eaff-4669-a63e-f23dcc120c4f",
   "metadata": {
    "tags": []
   },
   "outputs": [],
   "source": [
    "# import mesh\n",
    "filename = 'inputs/sphere.ply'\n",
    "mesh = pv.read(filename)\n",
    "\n",
    "mesh = mesh.triangulate()\n",
    "mesh = mesh.decimate(0.7)\n",
    "mesh = mesh.triangulate()\n",
    "\n",
    "# integration params\n",
    "nx = mesh.n_points\n",
    "niter = 10\n",
    "dt = 0.0001\n",
    "dx = .002/2 # good for decimated sphere\n",
    "\n",
    "# RD params\n",
    "du = 1\n",
    "dv = 10\n",
    "g = 1000 # set to zero to just test diffusion\n",
    "a = 0.126779*0.25\n",
    "b = 1.1\n",
    "\n",
    "# filenames\n",
    "pts_file = 'examples/pts_static_sphere.npy'\n",
    "laps_file = 'examples/laps_static_sphere.npy'\n",
    "output_gif = 'examples/static_sphere.gif'\n"
   ]
  },
  {
   "cell_type": "code",
   "execution_count": null,
   "id": "865f9451-674e-4fd7-8603-92b8388d1ab2",
   "metadata": {
    "tags": []
   },
   "outputs": [],
   "source": [
    "# grow sphere\n",
    "forward_growth.grow_forward(mesh, nx, niter, dt, growth_rate=.01/dt, grow=False, grow_from_rule=True, pts_output=pts_file, laps_output=laps_file)"
   ]
  },
  {
   "cell_type": "code",
   "execution_count": null,
   "id": "df283452-53c9-4457-9927-372dcfd17dfa",
   "metadata": {
    "tags": []
   },
   "outputs": [],
   "source": [
    "# integrate RD\n",
    "laps = np.load(laps_file)\n",
    "u_stored, v_stored = forward_growth.rd_forward(du, dv, g, a, b, nx, dx, niter, dt, laps)"
   ]
  },
  {
   "cell_type": "code",
   "execution_count": null,
   "id": "6450179f-b42f-401c-ae9a-439e4f220289",
   "metadata": {
    "tags": []
   },
   "outputs": [],
   "source": [
    "# plot result\n",
    "pts = np.load(pts_file)\n",
    "forward_growth.plot_forward(mesh, u_stored, pts, niter, nskip=2, output_gif=output_gif)\n"
   ]
  },
  {
   "cell_type": "markdown",
   "id": "2077dc67-7da9-4610-ae8d-c3d3db5481c3",
   "metadata": {
    "tags": []
   },
   "source": [
    "## Slow-growing sphere -> Different pattern depending on growth speed"
   ]
  },
  {
   "cell_type": "code",
   "execution_count": null,
   "id": "8c8383dd-3e5b-4d20-b350-c784fed1ed83",
   "metadata": {
    "tags": []
   },
   "outputs": [],
   "source": [
    "# import mesh\n",
    "filename = 'inputs/sphere.ply'\n",
    "mesh = pv.read(filename)\n",
    "\n",
    "mesh = mesh.triangulate()\n",
    "mesh = mesh.decimate(0.7)\n",
    "mesh = mesh.triangulate()\n",
    "\n",
    "# integration params\n",
    "nx = mesh.n_points\n",
    "niter = 1000\n",
    "dt = 0.0001\n",
    "dx = .002/2 # good for decimated sphere\n",
    "\n",
    "# RD params\n",
    "du = 1\n",
    "dv = 10\n",
    "g = 1000 # set to zero to just test diffusion\n",
    "a = 0.126779*0.25\n",
    "b = 1.1\n",
    "\n",
    "# filenames\n",
    "data_file = 'examples/data/slow_sphere.npz'\n",
    "output_gif = 'examples/slow_sphere.gif'\n"
   ]
  },
  {
   "cell_type": "code",
   "execution_count": null,
   "id": "2518f3bf-bddc-4535-9439-9dc0fc06009b",
   "metadata": {
    "tags": []
   },
   "outputs": [],
   "source": [
    "# grow sphere\n",
    "forward_growth.grow_forward(mesh, nx, niter, dt, growth_rate=.0005/dt, grow=True, grow_from_rule=True, output_file=data_file)"
   ]
  },
  {
   "cell_type": "code",
   "execution_count": null,
   "id": "787caf74-b4d6-4f68-8292-7c009d0063a2",
   "metadata": {
    "tags": []
   },
   "outputs": [],
   "source": [
    "# integrate RD\n",
    "laps = np.load(data_file)['laps']\n",
    "u_stored, v_stored = forward_growth.rd_forward(du, dv, g, a, b, nx, dx, niter, dt, laps)"
   ]
  },
  {
   "cell_type": "code",
   "execution_count": null,
   "id": "5e5fee7d-90aa-4820-8b6a-8ae929692481",
   "metadata": {
    "tags": []
   },
   "outputs": [],
   "source": [
    "# plot result\n",
    "pts = np.load(data_file)['pts']\n",
    "# u_stored = np.zeros((mesh.n_points, niter))\n",
    "forward_growth.plot_forward(mesh, u_stored, pts, niter, nskip=10, output_gif=output_gif)\n"
   ]
  },
  {
   "cell_type": "markdown",
   "id": "fdd0eaf8-57ad-4b01-ae68-d07bbfd60338",
   "metadata": {},
   "source": [
    "## Spots/stripes on static cow"
   ]
  },
  {
   "cell_type": "code",
   "execution_count": null,
   "id": "2ad19f2e-c354-4601-b589-48c505fdb54f",
   "metadata": {
    "tags": []
   },
   "outputs": [],
   "source": [
    "# import mesh\n",
    "filename = 'inputs/cow.vtp'\n",
    "mesh = pv.read(filename)\n",
    "\n",
    "mesh = mesh.triangulate()\n",
    "mesh = mesh.decimate(0.7)\n",
    "mesh = mesh.triangulate()\n",
    "\n",
    "# integration params\n",
    "nx = mesh.n_points\n",
    "niter = 1000\n",
    "dt = 0.0001\n",
    "dx = .2 # good for decimated cow\n",
    "\n",
    "# RD params\n",
    "du = 1\n",
    "dv = 10\n",
    "g = 1000 # set to zero to just test diffusion\n",
    "a = 0.126779*0.25\n",
    "b = 0.792366\n",
    "\n",
    "# filenames\n",
    "data_file = 'examples/data/cow_2.npz'\n",
    "output_gif = 'examples/cow_2.gif'\n"
   ]
  },
  {
   "cell_type": "code",
   "execution_count": null,
   "id": "f3a95a22-7f88-449c-8e14-fbfa625dac94",
   "metadata": {
    "tags": []
   },
   "outputs": [],
   "source": [
    "# grow sphere\n",
    "forward_growth.grow_forward(mesh, nx, niter, dt, growth_rate=1/dt, grow=False, grow_from_rule=True, output_file=data_file)\n"
   ]
  },
  {
   "cell_type": "code",
   "execution_count": null,
   "id": "6bea99e1-ddcc-46a8-8208-dca008aad4c1",
   "metadata": {
    "tags": []
   },
   "outputs": [],
   "source": [
    "# integrate RD\n",
    "laps = np.load(data_file)['laps']\n",
    "u_stored, v_stored = forward_growth.rd_forward(du, dv, g, a, b, nx, dx, niter, dt, laps)"
   ]
  },
  {
   "cell_type": "code",
   "execution_count": null,
   "id": "ee92d831-4e21-4cc4-bcc5-f2c71451080b",
   "metadata": {
    "tags": []
   },
   "outputs": [],
   "source": [
    "# plot result\n",
    "pts = np.load(data_file)['pts']\n",
    "forward_growth.plot_forward(mesh, u_stored, pts, niter, nskip=10, output_gif=output_gif)\n"
   ]
  },
  {
   "cell_type": "markdown",
   "id": "fb03a7f9-6af5-4077-9a53-71cb882a8d37",
   "metadata": {},
   "source": [
    "## Equal diffusion coefficients"
   ]
  },
  {
   "cell_type": "code",
   "execution_count": 6,
   "id": "22c38d75-7def-460a-97db-33c901eb9e1e",
   "metadata": {
    "tags": []
   },
   "outputs": [],
   "source": [
    "# import mesh\n",
    "filename = 'inputs/sphere.ply'\n",
    "mesh = pv.read(filename)\n",
    "\n",
    "mesh = mesh.triangulate()\n",
    "mesh = mesh.decimate(0.7)\n",
    "mesh = mesh.triangulate()\n",
    "\n",
    "# integration params\n",
    "nx = mesh.n_points\n",
    "niter = 450\n",
    "dt = 0.0001\n",
    "dx = .002/2 # good for decimated sphere\n",
    "# dx = .2 # good for decimated cow\n",
    "\n",
    "# RD params\n",
    "du = 1\n",
    "dv = 1\n",
    "g = 1000 # set to zero to just test diffusion\n",
    "a = 0.126779*0.25\n",
    "b = 0.792366\n",
    "\n",
    "# filenames\n",
    "data_file = 'examples/data/sphere_equal.npz'\n",
    "output_gif = 'examples/sphere_equal.gif'\n"
   ]
  },
  {
   "cell_type": "code",
   "execution_count": 7,
   "id": "35529c61-ddff-416b-ad42-4a880333f605",
   "metadata": {
    "tags": []
   },
   "outputs": [
    {
     "name": "stdout",
     "output_type": "stream",
     "text": [
      "\n",
      "Growth loop completed.\n",
      "Growth data written to examples/data/sphere_equal.npz.\n"
     ]
    }
   ],
   "source": [
    "# grow \n",
    "forward_growth.grow_forward(mesh, nx, niter, dt, growth_rate=1/dt, grow=False, grow_from_rule=True, output_file=data_file)\n"
   ]
  },
  {
   "cell_type": "code",
   "execution_count": 8,
   "id": "14362dcf-c429-4bfa-b614-f7059d679017",
   "metadata": {
    "tags": []
   },
   "outputs": [
    {
     "name": "stdout",
     "output_type": "stream",
     "text": [
      "Beginning RD integration loop...\n",
      "Iteration 450/450 (100%)\n",
      "RD loop completed.\n"
     ]
    }
   ],
   "source": [
    "# integrate RD\n",
    "\n",
    "laps = np.load(data_file)['laps']\n",
    "u_stored, v_stored = forward_growth.rd_forward(du, dv, g, a, b, nx, dx, niter, dt, laps)"
   ]
  },
  {
   "cell_type": "code",
   "execution_count": 9,
   "id": "f349cc71-73fd-4a0a-bc63-e7b91dcae1ac",
   "metadata": {
    "tags": []
   },
   "outputs": [
    {
     "name": "stdout",
     "output_type": "stream",
     "text": [
      "Beginning plotting loop...\n",
      "Iteration 450/450 (100%)\n",
      "Plotting loop completed.\n",
      "Plotting completed.\n"
     ]
    }
   ],
   "source": [
    "# plot result\n",
    "pts = np.load(data_file)['pts']\n",
    "forward_growth.plot_forward(mesh, u_stored, pts, niter, nskip=100, output_gif=output_gif, mode='static')\n"
   ]
  },
  {
   "cell_type": "markdown",
   "id": "49bb3f0d-a509-4a23-b008-2cff1ff2febc",
   "metadata": {},
   "source": [
    "Very interesting: I'm seeing pattern formation with equal diffusion coefficients? Could curvature be making that possible? Should revisit this.\n",
    "\n",
    "Figured out why: it was just that I accidentally hard-coded the RD parameters into forward_growth.py. After deleting them the behavior is as expected: equal diffusion constants yield no pattern."
   ]
  },
  {
   "cell_type": "markdown",
   "id": "e3f733bf-b9de-4110-8fa1-4015c7d8f9d1",
   "metadata": {},
   "source": [
    "## Curvature coupling"
   ]
  },
  {
   "cell_type": "code",
   "execution_count": 106,
   "id": "c90d23f7-e786-4ac3-8aec-eff6743ebfac",
   "metadata": {
    "tags": []
   },
   "outputs": [],
   "source": [
    "# import mesh\n",
    "filename = 'inputs/sphere.ply'\n",
    "mesh = pv.read(filename)\n",
    "\n",
    "mesh = mesh.triangulate()\n",
    "mesh = mesh.decimate(0.5)\n",
    "mesh = mesh.triangulate()\n",
    "\n",
    "# stretch points along z for ellipse\n",
    "# mesh.points[:,2] *= 2\n",
    "\n",
    "# print(mesh.points[:,2].max())\n",
    "# flattens top of sphere\n",
    "for i in range(nx):\n",
    "    z_plane = 0\n",
    "    if mesh.points[i,2] > z_plane:\n",
    "        # mesh.points[i,2] = z_plane - mesh.points[i,2] # pop inward\n",
    "        mesh.points[i,2] = z_plane # flatten\n",
    "\n",
    "# integration params\n",
    "nx = mesh.n_points\n",
    "niter = 500\n",
    "dt = 0.0001\n",
    "dx = .001 # good for decimated sphere\n",
    "# dx = .2 # good for decimated cow\n",
    "\n",
    "# RD params - coupled to curvature\n",
    "# du = np.ones(nx)*1/5\n",
    "# dv = np.ones(nx)*10/5\n",
    "curv =  mesh.curvature('gaussian')\n",
    "du = 0.2 + 1 * np.array(abs(curv)<1e-16, dtype=float)\n",
    "dv = du.copy() * 10\n",
    "g = 1000 # set to zero to just test diffusion\n",
    "a = 0.126779*0.25\n",
    "b = 0.792366\n",
    "\n",
    "# filenames\n",
    "data_file = 'examples/data/sphere_coupled.npz'\n",
    "output_gif = 'examples/sphere_coupled.gif'\n",
    "               \n",
    "               \n",
    "# pl = pv.Plotter()\n",
    "# _ = pl.add_mesh(mesh, show_edges=True, scalars=mesh.curvature(\"gaussian\"))\n",
    "# _ = pl.add_axes_at_origin(ylabel=None)\n",
    "# pl.camera_position = 'xz'\n",
    "# pl.show()\n"
   ]
  },
  {
   "cell_type": "code",
   "execution_count": 107,
   "id": "07e0cd81-99eb-490d-bce3-d85643a7fe68",
   "metadata": {
    "tags": []
   },
   "outputs": [
    {
     "name": "stdout",
     "output_type": "stream",
     "text": [
      "\n",
      "Growth loop completed.\n",
      "Growth data written to examples/data/sphere_coupled.npz.\n"
     ]
    }
   ],
   "source": [
    "# grow \n",
    "forward_growth.grow_forward(mesh, nx, niter, dt, growth_rate=1/dt, grow=False, grow_from_rule=True, output_file=data_file)\n"
   ]
  },
  {
   "cell_type": "code",
   "execution_count": 108,
   "id": "a59f3cc6-3814-4356-b6c3-c1108a5573fa",
   "metadata": {
    "tags": []
   },
   "outputs": [
    {
     "name": "stdout",
     "output_type": "stream",
     "text": [
      "Beginning RD integration loop...\n",
      "Iteration 500/500 (100%)\n",
      "RD loop completed.\n"
     ]
    }
   ],
   "source": [
    "# integrate RD\n",
    "\n",
    "laps = np.load(data_file)['laps']\n",
    "u_stored, v_stored = forward_growth.rd_forward(du, dv, g, a, b, nx, dx, niter, dt, laps)"
   ]
  },
  {
   "cell_type": "code",
   "execution_count": null,
   "id": "1855842d-2fc8-45bb-baac-43f838d05a6f",
   "metadata": {
    "tags": []
   },
   "outputs": [
    {
     "name": "stdout",
     "output_type": "stream",
     "text": [
      "Beginning plotting loop...\n",
      "Iteration 500/500 (100%)\n",
      "Plotting loop completed.\n"
     ]
    }
   ],
   "source": [
    "# plot result\n",
    "pts = np.load(data_file)['pts']\n",
    "forward_growth.plot_forward(mesh, u_stored, pts, niter, nskip=10, output_gif=output_gif, mode='static')\n"
   ]
  },
  {
   "cell_type": "code",
   "execution_count": 94,
   "id": "7a38aa2b-8e8b-4de6-a18c-c1c553bb95e2",
   "metadata": {
    "tags": []
   },
   "outputs": [
    {
     "data": {
      "text/plain": [
       "array([0.2, 0.2, 0.2, 0.2, 0.2, 0.2, 0.2, 0.2, 0.2, 0.2, 0.2, 0.2, 0.2,\n",
       "       0.2, 0.2, 0.2, 0.2, 0.2, 0.2, 0.2, 0.2, 0.2, 0.2, 0.2, 0.2, 0.2,\n",
       "       0.2, 0.2, 0.2, 0.2, 0.2, 0.2, 0.2, 0.2, 0.2, 0.2, 0.2, 0.2, 0.2,\n",
       "       0.2, 0.2, 0.2, 0.2, 0.2, 0.2, 0.2, 0.2, 0.2, 0.2, 0.2, 0.2, 0.2,\n",
       "       0.2, 0.2, 0.2, 0.2, 0.2, 0.2, 0.2, 0.2, 0.2, 0.2, 0.2, 0.2, 0.2,\n",
       "       0.2, 0.2, 0.2, 0.2, 0.2, 0.2, 0.2, 0.2, 0.2, 0.2, 0.2, 0.2, 0.2,\n",
       "       0.2, 0.2, 0.2, 0.2, 0.2, 0.2, 0.2, 0.2, 0.2, 0.2, 0.2, 0.2, 0.2,\n",
       "       0.2, 0.2, 0.2, 0.2, 0.2, 0.2, 0.2, 0.2, 0.2, 0.2, 0.2, 0.2, 0.2,\n",
       "       0.2, 0.2, 0.2, 0.2, 0.2, 0.2, 0.2, 0.2, 0.2, 0.2, 0.2, 0.2, 0.2,\n",
       "       0.2, 0.2, 0.2, 0.2, 0.2, 0.2, 0.2, 0.2, 0.2, 0.2, 0.2, 0.2, 0.2,\n",
       "       0.2, 0.2, 0.2, 1.2, 1.2, 1.2, 1.2, 1.2, 1.2, 1.2, 1.2, 1.2, 1.2,\n",
       "       1.2, 1.2, 1.2, 1.2, 1.2, 1.2, 1.2, 1.2, 1.2, 1.2, 1.2, 1.2, 1.2,\n",
       "       1.2, 1.2, 1.2, 1.2, 1.2, 1.2, 1.2, 1.2, 1.2, 1.2, 1.2, 1.2, 1.2,\n",
       "       1.2, 1.2, 1.2, 1.2, 1.2, 1.2, 1.2, 1.2, 1.2, 1.2, 1.2, 1.2, 1.2,\n",
       "       1.2, 1.2, 1.2, 1.2, 1.2, 1.2, 1.2, 1.2, 1.2, 1.2, 1.2, 1.2, 1.2,\n",
       "       1.2, 1.2, 1.2, 1.2, 1.2, 1.2, 1.2, 1.2, 1.2, 1.2, 1.2, 1.2, 1.2,\n",
       "       1.2, 1.2, 1.2, 1.2])"
      ]
     },
     "execution_count": 94,
     "metadata": {},
     "output_type": "execute_result"
    }
   ],
   "source": [
    "du"
   ]
  },
  {
   "cell_type": "code",
   "execution_count": null,
   "id": "181b0de5-0481-4174-a3b9-12eba5a2239c",
   "metadata": {},
   "outputs": [],
   "source": []
  }
 ],
 "metadata": {
  "kernelspec": {
   "display_name": "Python 3 (ipykernel)",
   "language": "python",
   "name": "python3"
  },
  "language_info": {
   "codemirror_mode": {
    "name": "ipython",
    "version": 3
   },
   "file_extension": ".py",
   "mimetype": "text/x-python",
   "name": "python",
   "nbconvert_exporter": "python",
   "pygments_lexer": "ipython3",
   "version": "3.10.12"
  }
 },
 "nbformat": 4,
 "nbformat_minor": 5
}
