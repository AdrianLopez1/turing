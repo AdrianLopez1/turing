{
 "cells": [
  {
   "cell_type": "code",
   "execution_count": 1,
   "id": "9497094d-ac1a-4b1b-8359-ba5c450b3826",
   "metadata": {
    "tags": []
   },
   "outputs": [],
   "source": [
    "import pyvista as pv\n",
    "import numpy as np\n",
    "np.random.seed(0)\n",
    "\n",
    "import forward_growth\n",
    "import inverse_growth\n",
    "import mesh_laplacian"
   ]
  },
  {
   "cell_type": "markdown",
   "id": "3a38adad-f377-42e9-b925-84019ff84442",
   "metadata": {
    "jp-MarkdownHeadingCollapsed": true,
    "tags": []
   },
   "source": [
    "## Fast-growing sphere destroys patterns"
   ]
  },
  {
   "cell_type": "code",
   "execution_count": null,
   "id": "9c498d2d-c7a9-4de5-883a-0df55f61a279",
   "metadata": {
    "tags": []
   },
   "outputs": [],
   "source": [
    "# import mesh\n",
    "filename = 'inputs/sphere.ply'\n",
    "mesh = pv.read(filename)\n",
    "\n",
    "mesh = mesh.triangulate()\n",
    "mesh = mesh.decimate(0.7)\n",
    "mesh = mesh.triangulate()\n",
    "\n",
    "# integration params\n",
    "nx = mesh.n_points\n",
    "niter = 1000\n",
    "dt = 0.0001\n",
    "dx = .002/2 # good for decimated sphere\n",
    "\n",
    "# RD params\n",
    "du = 1\n",
    "dv = 10\n",
    "g = 1000 # set to zero to just test diffusion\n",
    "a = 0.126779*0.25\n",
    "b = 1.1\n",
    "\n",
    "# filenames\n",
    "pts_file = 'examples/pts_static_sphere.npy'\n",
    "laps_file = 'examples/laps_static_sphere.npy'\n",
    "output_gif = 'examples/static_sphere.gif'\n"
   ]
  },
  {
   "cell_type": "code",
   "execution_count": null,
   "id": "8f0a7c5f-3013-4623-9dac-1e67e8beb188",
   "metadata": {
    "tags": []
   },
   "outputs": [],
   "source": [
    "# grow sphere\n",
    "forward_growth.grow_forward(mesh, nx, niter, dt, growth_rate=1/dt, grow=True, grow_from_rule=True, pts_output=pts_file, laps_output=laps_file)"
   ]
  },
  {
   "cell_type": "code",
   "execution_count": null,
   "id": "12776728-9dc0-45bb-b43e-5bc5372c3046",
   "metadata": {
    "tags": []
   },
   "outputs": [],
   "source": [
    "# integrate RD\n",
    "laps = np.load(laps_file)\n",
    "u_stored, v_stored = forward_growth.rd_forward(du, dv, g, a, b, nx, dx, niter, dt, laps)"
   ]
  },
  {
   "cell_type": "code",
   "execution_count": null,
   "id": "0aefa43a-d42e-4467-8876-d7b8edba0647",
   "metadata": {
    "tags": []
   },
   "outputs": [],
   "source": [
    "# plot result\n",
    "pts = np.load(pts_file)\n",
    "forward_growth.plot_forward(mesh, u_stored, pts, niter, nskip=2, output_gif=output_gif)\n"
   ]
  },
  {
   "cell_type": "markdown",
   "id": "899e6986-551b-4619-ad96-5d7a697e970d",
   "metadata": {
    "tags": []
   },
   "source": [
    "## Static sphere allows pattern to form"
   ]
  },
  {
   "cell_type": "code",
   "execution_count": null,
   "id": "a0e37e8c-eaff-4669-a63e-f23dcc120c4f",
   "metadata": {
    "tags": []
   },
   "outputs": [],
   "source": [
    "# import mesh\n",
    "filename = 'inputs/sphere.ply'\n",
    "mesh = pv.read(filename)\n",
    "\n",
    "mesh = mesh.triangulate()\n",
    "mesh = mesh.decimate(0.7)\n",
    "mesh = mesh.triangulate()\n",
    "\n",
    "# integration params\n",
    "nx = mesh.n_points\n",
    "niter = 10\n",
    "dt = 0.0001\n",
    "dx = .002/2 # good for decimated sphere\n",
    "\n",
    "# RD params\n",
    "du = 1\n",
    "dv = 10\n",
    "g = 1000 # set to zero to just test diffusion\n",
    "a = 0.126779*0.25\n",
    "b = 1.1\n",
    "\n",
    "# filenames\n",
    "pts_file = 'examples/pts_static_sphere.npy'\n",
    "laps_file = 'examples/laps_static_sphere.npy'\n",
    "output_gif = 'examples/static_sphere.gif'\n"
   ]
  },
  {
   "cell_type": "code",
   "execution_count": null,
   "id": "865f9451-674e-4fd7-8603-92b8388d1ab2",
   "metadata": {
    "tags": []
   },
   "outputs": [],
   "source": [
    "# grow sphere\n",
    "forward_growth.grow_forward(mesh, nx, niter, dt, growth_rate=.01/dt, grow=False, grow_from_rule=True, pts_output=pts_file, laps_output=laps_file)"
   ]
  },
  {
   "cell_type": "code",
   "execution_count": null,
   "id": "df283452-53c9-4457-9927-372dcfd17dfa",
   "metadata": {
    "tags": []
   },
   "outputs": [],
   "source": [
    "# integrate RD\n",
    "laps = np.load(laps_file)\n",
    "u_stored, v_stored = forward_growth.rd_forward(du, dv, g, a, b, nx, dx, niter, dt, laps)"
   ]
  },
  {
   "cell_type": "code",
   "execution_count": null,
   "id": "6450179f-b42f-401c-ae9a-439e4f220289",
   "metadata": {
    "tags": []
   },
   "outputs": [],
   "source": [
    "# plot result\n",
    "pts = np.load(pts_file)\n",
    "forward_growth.plot_forward(mesh, u_stored, pts, niter, nskip=2, output_gif=output_gif)\n"
   ]
  },
  {
   "cell_type": "markdown",
   "id": "2077dc67-7da9-4610-ae8d-c3d3db5481c3",
   "metadata": {
    "tags": []
   },
   "source": [
    "## Slow-growing sphere -> Different pattern depending on growth speed"
   ]
  },
  {
   "cell_type": "code",
   "execution_count": null,
   "id": "00381031-9a23-48b5-9b2a-0c8004cab844",
   "metadata": {
    "tags": []
   },
   "outputs": [],
   "source": [
    "# import mesh\n",
    "filename = 'inputs/sphere.ply'\n",
    "mesh = pv.read(filename)\n",
    "\n",
    "mesh = mesh.triangulate()\n",
    "mesh = mesh.decimate(0.7)\n",
    "mesh = mesh.triangulate()\n",
    "\n",
    "# integration params\n",
    "nx = mesh.n_points\n",
    "niter = 6000\n",
    "dt = 0.0001\n",
    "dx = .002/2 # good for decimated sphere\n",
    "\n",
    "# RD params\n",
    "du = 1\n",
    "dv = 10\n",
    "g = 1000 # set to zero to just test diffusion\n",
    "a = 0.126779*0.25\n",
    "b = 1.1\n",
    "\n",
    "# filenames\n",
    "data_file = 'examples/data/slow_sphere_3.npz'\n",
    "mesh_file = 'examples/data/slow_sphere_3.vtk'\n",
    "output_gif = 'examples/slow_sphere_3.gif'\n",
    "\n",
    "\n",
    "# grow sphere\n",
    "# growth_rate = 0.0005/dt\n",
    "# forward_growth.grow_forward(mesh, nx, niter, dt, growth_rate=growth_rate, grow=True, grow_from_rule=True, output_file=data_file)\n",
    "\n",
    "# integrate RD\n",
    "# don't really need to recalc laps when growth is isotropic, just do it easily by scaling here\n",
    "\n",
    "growth_factors = np.linspace(0.0, 0.1, niter)\n",
    "\n",
    "# Initialize points\n",
    "scale_factor = 1\n",
    "dx /= scale_factor\n",
    "pts = np.zeros((nx, 3, niter+1))\n",
    "mesh.points *= scale_factor\n",
    "pts[:,:,0] = mesh.points.copy()\n",
    "\n",
    "\n",
    "# Initialize laps\n",
    "laps = np.zeros((nx, nx, niter+1))\n",
    "laps[:,:,0] = mesh_laplacian.compute_mesh_laplacian(mesh)\n",
    "\n",
    "# calculate pts and laps via growth factors\n",
    "for i in range(niter):\n",
    "    pts[:,:,i+1] = pts[:,:,0] * (1 + growth_factors[i])\n",
    "    laps[:,:,i] = laps[:,:,0] #/ (1 + growth_factors[i])**2 # can rescale dx to eliminate this effect\n",
    "\n",
    "# write results to disk\n",
    "np.savez_compressed(data_file, pts=pts, laps=laps)\n",
    "\n",
    "import sys\n",
    "def rd_forward(mesh, pts, du, dv, g, a, b, nx, dx, niter, dt, laps, grow=False, output_file=None):\n",
    "    '''\n",
    "        Integrates RD DE's forward in time on growing manifold defined by laps.\n",
    "    '''\n",
    "    from forward import step_se\n",
    "\n",
    "    # initialize fields near steady-state solution\n",
    "    u = np.ones(nx, dtype=float)*(a+b)\n",
    "    u += np.random.normal(scale=0.01, size=nx)\n",
    "    v = np.ones(nx, dtype=float)*(b/(a+b)**2)\n",
    "\n",
    "    u_stored = np.zeros((nx, niter+1))\n",
    "    u_stored[:,0] = u\n",
    "\n",
    "    v_stored = np.zeros((nx, niter+1))\n",
    "    v_stored[:,0] = v\n",
    "\n",
    "\n",
    "    integrate = True\n",
    "\n",
    "    if integrate:\n",
    "        print(\"Beginning RD integration loop...\")\n",
    "        for i in range(niter):\n",
    "            sys.stdout.write(\"\\rIteration {0}/{1} ({2}%)\".format(i+1, niter, int(100*(i+1)/niter)))\n",
    "            sys.stdout.flush()\n",
    "\n",
    "            # Run GMRES to solve for next timestep\n",
    "            # reference calculated laplacians from growth loop\n",
    "            if grow: \n",
    "                # first apply dilution\n",
    "                area_current = mesh.area\n",
    "                mesh.points  = pts[:,:,i+1]\n",
    "                area_new     = mesh.area\n",
    "                dilution_factor = area_current / area_new\n",
    "                \n",
    "                # dilution_factor = 0.99 # just to test\n",
    "                # print(dilution_factor)\n",
    "                \n",
    "                u *= dilution_factor\n",
    "                v *= dilution_factor\n",
    "                \n",
    "                \n",
    "                # then RD\n",
    "                u, v = step_se(u,v, a,b,g,du,dv, laps[:,:,i], dx,nx,dt)\n",
    "            else: u, v = step_se(u,v, a,b,g,du,dv, laps, dx,nx,dt)\n",
    "\n",
    "            # store for later animation\n",
    "            u_stored[:,i+1] = u\n",
    "            v_stored[:,i+1] = v\n",
    "\n",
    "\n",
    "        print(\"\\nRD loop completed.\")\n",
    "        \n",
    "    # write results to disk\n",
    "    # note that this overwrites pts and laps\n",
    "    # np.savez_compressed(output_file, u=u_stored, v=v_stored)\n",
    "    \n",
    "    print(\"RD data written to {}.\".format(output_file))\n",
    "    \n",
    "    # reset mesh\n",
    "    if grow: mesh.points = pts[:,:,0]\n",
    "    \n",
    "    \n",
    "    return u_stored, v_stored\n",
    "\n",
    "laps[0,0,0] / dx**2"
   ]
  },
  {
   "cell_type": "code",
   "execution_count": null,
   "id": "9e81ef75-a74b-41d6-950a-5179296cb948",
   "metadata": {
    "tags": []
   },
   "outputs": [],
   "source": [
    "u_stored, v_stored = rd_forward(mesh, pts, du, dv, g, a, b, nx, dx, niter, dt, laps, grow=True, output_file=data_file)"
   ]
  },
  {
   "cell_type": "code",
   "execution_count": null,
   "id": "5dcfd729-8d9c-4cda-a5d6-a62bb7a7e36c",
   "metadata": {
    "tags": []
   },
   "outputs": [],
   "source": [
    "# write solution onto mesh\n",
    "mesh.point_data['u'] = u_stored[:,-1]\n",
    "mesh.point_data['v'] = v_stored[:,-1]\n",
    "\n",
    "# save mesh to disk\n",
    "mesh.save(mesh_file)\n",
    "\n",
    "mesh.points = pts[:,:,-1]\n",
    "print(mesh.area)"
   ]
  },
  {
   "cell_type": "code",
   "execution_count": null,
   "id": "5e5fee7d-90aa-4820-8b6a-8ae929692481",
   "metadata": {
    "tags": []
   },
   "outputs": [],
   "source": [
    "# plot result\n",
    "pts = np.load(data_file)['pts']\n",
    "# u_stored = np.zeros((mesh.n_points, niter))\n",
    "params = [du, dv, g, a, b, nx, dx, niter, dt]\n",
    "\n",
    "forward_growth.plot_forward(params, mesh, u_stored, pts, niter, nskip=120, output_gif=output_gif, mode=\"static\", grow=True)\n"
   ]
  },
  {
   "cell_type": "code",
   "execution_count": null,
   "id": "88b6fd9a-1731-4552-94d5-61a1daf6f3d0",
   "metadata": {
    "tags": []
   },
   "outputs": [],
   "source": [
    "growth_rate = 0.0005/dt\n",
    "\n",
    "(1 + growth_rate * dt * niter)**2"
   ]
  },
  {
   "cell_type": "code",
   "execution_count": null,
   "id": "647996a8-f819-4084-aa9c-47c859a897c8",
   "metadata": {
    "tags": []
   },
   "outputs": [],
   "source": [
    "print(pts[:,0])\n",
    "print(pts[:,1])\n",
    "print(pts[:,2])"
   ]
  },
  {
   "cell_type": "markdown",
   "id": "fdd0eaf8-57ad-4b01-ae68-d07bbfd60338",
   "metadata": {},
   "source": [
    "## Spots/stripes on static cow"
   ]
  },
  {
   "cell_type": "code",
   "execution_count": 18,
   "id": "2ad19f2e-c354-4601-b589-48c505fdb54f",
   "metadata": {
    "tags": []
   },
   "outputs": [],
   "source": [
    "# import mesh\n",
    "filename = 'inputs/cow.vtp'\n",
    "mesh = pv.read(filename)\n",
    "\n",
    "mesh = mesh.triangulate()\n",
    "mesh = mesh.decimate(0.2)\n",
    "mesh = mesh.triangulate()\n",
    "\n",
    "# integration params\n",
    "nx = mesh.n_points\n",
    "niter = 1500\n",
    "dt = 0.0001\n",
    "dx = .2 # good for decimated cow\n",
    "\n",
    "# RD params\n",
    "du = 1\n",
    "dv = 10\n",
    "g = 1000 # set to zero to just test diffusion\n",
    "a = 0.126779*0.25\n",
    "b = 0.792366 # spots, 3\n",
    "# b = 1.1 # stripes, 2\n",
    "# b = 1.5 # uniform, 1\n",
    "\n",
    "# filenames\n",
    "data_file = 'examples/data/cow_4.npz'\n",
    "mesh_file = 'examples/data/cow_4.vtk'\n",
    "output_gif = 'examples/cow_4.gif'\n"
   ]
  },
  {
   "cell_type": "code",
   "execution_count": 19,
   "id": "f3a95a22-7f88-449c-8e14-fbfa625dac94",
   "metadata": {
    "tags": []
   },
   "outputs": [],
   "source": [
    "# grow sphere\n",
    "# forward_growth.grow_forward(mesh, nx, niter, dt, growth_rate=1/dt, grow=False, grow_from_rule=True, output_file=data_file)\n"
   ]
  },
  {
   "cell_type": "code",
   "execution_count": null,
   "id": "6bea99e1-ddcc-46a8-8208-dca008aad4c1",
   "metadata": {
    "tags": []
   },
   "outputs": [
    {
     "name": "stdout",
     "output_type": "stream",
     "text": [
      "Beginning RD integration loop...\n",
      "Iteration 10/1500 (0%)"
     ]
    }
   ],
   "source": [
    "# integrate RD\n",
    "laps = mesh_laplacian.compute_mesh_laplacian(mesh)\n",
    "u_stored, v_stored = forward_growth.rd_forward(du, dv, g, a, b, nx, dx, niter, dt, laps, output_file=data_file)\n",
    "\n",
    "# write solution onto mesh\n",
    "mesh.point_data['u'] = u_stored[:,-1]\n",
    "mesh.point_data['v'] = v_stored[:,-1]\n",
    "\n",
    "# save mesh to disk\n",
    "mesh.save(mesh_file)"
   ]
  },
  {
   "cell_type": "code",
   "execution_count": null,
   "id": "ee92d831-4e21-4cc4-bcc5-f2c71451080b",
   "metadata": {
    "tags": []
   },
   "outputs": [],
   "source": [
    "# plot result    \n",
    "pts = mesh.points\n",
    "params = [du, dv, g, a, b, nx, dx, niter, dt]\n",
    "forward_growth.plot_forward(params, mesh, u_stored, pts, niter, nskip=25, output_gif=output_gif, mode='dynamic', cpos='xy', rot=-45)\n"
   ]
  },
  {
   "cell_type": "markdown",
   "id": "e3b99d5e-9f35-462d-a45b-85661fe6adf4",
   "metadata": {
    "jp-MarkdownHeadingCollapsed": true,
    "tags": []
   },
   "source": [
    "## Spots/stripes on static sphere"
   ]
  },
  {
   "cell_type": "code",
   "execution_count": null,
   "id": "5b544c1f-500b-4fcb-b895-3b5ab15bc1cc",
   "metadata": {
    "tags": []
   },
   "outputs": [],
   "source": [
    "# import mesh\n",
    "filename = 'inputs/sphere.ply'\n",
    "mesh = pv.read(filename)\n",
    "\n",
    "mesh = mesh.triangulate()\n",
    "mesh = mesh.decimate(0.5)\n",
    "mesh = mesh.triangulate()\n",
    "\n",
    "# integration params\n",
    "nx = mesh.n_points\n",
    "niter = 3000\n",
    "dt = 0.0001\n",
    "dx = .002/2 # good for decimated sphere\n",
    "\n",
    "# RD params\n",
    "du = 1\n",
    "dv = 10\n",
    "g = 1000 # set to zero to just test diffusion\n",
    "a = 0.126779*0.25\n",
    "b = 1.5 # uniform\n",
    "# b = 1.1 # stripes\n",
    "# b = .79 # spots\n",
    "\n",
    "\n",
    "# filenames\n",
    "data_file = 'examples/data/sphere_3.npz'\n",
    "mesh_file = 'examples/data/sphere_3.vtk'\n",
    "output_gif = 'examples/sphere_3.gif'\n"
   ]
  },
  {
   "cell_type": "code",
   "execution_count": null,
   "id": "368f8d33-975b-43d5-88f3-f7f64e47546c",
   "metadata": {
    "tags": []
   },
   "outputs": [],
   "source": [
    "# grow sphere\n",
    "# forward_growth.grow_forward(mesh, nx, niter, dt, growth_rate=1/dt, grow=False, grow_from_rule=True, output_file=data_file)\n"
   ]
  },
  {
   "cell_type": "code",
   "execution_count": null,
   "id": "06f7613c-801e-45f6-8283-228d436fb44d",
   "metadata": {
    "tags": []
   },
   "outputs": [],
   "source": [
    "# integrate RD\n",
    "laps = mesh_laplacian.compute_mesh_laplacian(mesh)\n",
    "u_stored, v_stored = forward_growth.rd_forward(du, dv, g, a, b, nx, dx, niter, dt, laps, output_file=data_file)\n",
    "\n",
    "# write solution onto mesh\n",
    "mesh.point_data['u'] = u_stored[:,-1]\n",
    "mesh.point_data['v'] = v_stored[:,-1]\n",
    "\n",
    "# save mesh\n",
    "# save mesh to disk\n",
    "mesh.save(mesh_file)"
   ]
  },
  {
   "cell_type": "code",
   "execution_count": null,
   "id": "63d3bf6c-8f60-48fb-bb37-676ea2a59b4e",
   "metadata": {
    "tags": []
   },
   "outputs": [],
   "source": [
    "# plot result    \n",
    "pts = mesh.points\n",
    "params = [du, dv, g, a, b, nx, dx, niter, dt]\n",
    "forward_growth.plot_forward(params, mesh, u_stored, pts, niter, nskip=30, output_gif=output_gif, mode='dynamic', cpos='xy', rot=-45)\n"
   ]
  },
  {
   "cell_type": "markdown",
   "id": "fb03a7f9-6af5-4077-9a53-71cb882a8d37",
   "metadata": {
    "jp-MarkdownHeadingCollapsed": true,
    "tags": []
   },
   "source": [
    "## Equal diffusion coefficients"
   ]
  },
  {
   "cell_type": "code",
   "execution_count": null,
   "id": "22c38d75-7def-460a-97db-33c901eb9e1e",
   "metadata": {
    "tags": []
   },
   "outputs": [],
   "source": [
    "# import mesh\n",
    "filename = 'inputs/sphere.ply'\n",
    "mesh = pv.read(filename)\n",
    "\n",
    "mesh = mesh.triangulate()\n",
    "mesh = mesh.decimate(0.7)\n",
    "mesh = mesh.triangulate()\n",
    "\n",
    "# integration params\n",
    "nx = mesh.n_points\n",
    "niter = 450\n",
    "dt = 0.0001\n",
    "dx = .002/2 # good for decimated sphere\n",
    "# dx = .2 # good for decimated cow\n",
    "\n",
    "# RD params\n",
    "du = 1\n",
    "dv = 1\n",
    "g = 1000 # set to zero to just test diffusion\n",
    "a = 0.126779*0.25\n",
    "b = 0.792366\n",
    "\n",
    "# filenames\n",
    "data_file = 'examples/data/sphere_equal.npz'\n",
    "output_gif = 'examples/sphere_equal.gif'\n"
   ]
  },
  {
   "cell_type": "code",
   "execution_count": null,
   "id": "35529c61-ddff-416b-ad42-4a880333f605",
   "metadata": {
    "tags": []
   },
   "outputs": [],
   "source": [
    "# grow \n",
    "forward_growth.grow_forward(mesh, nx, niter, dt, growth_rate=1/dt, grow=False, grow_from_rule=True, output_file=data_file)\n"
   ]
  },
  {
   "cell_type": "code",
   "execution_count": null,
   "id": "14362dcf-c429-4bfa-b614-f7059d679017",
   "metadata": {
    "tags": []
   },
   "outputs": [],
   "source": [
    "# integrate RD\n",
    "\n",
    "laps = np.load(data_file)['laps']\n",
    "u_stored, v_stored = forward_growth.rd_forward(du, dv, g, a, b, nx, dx, niter, dt, laps)"
   ]
  },
  {
   "cell_type": "code",
   "execution_count": null,
   "id": "f349cc71-73fd-4a0a-bc63-e7b91dcae1ac",
   "metadata": {
    "tags": []
   },
   "outputs": [],
   "source": [
    "# plot result\n",
    "pts = np.load(data_file)['pts']\n",
    "forward_growth.plot_forward(mesh, u_stored, pts, niter, nskip=100, output_gif=output_gif, mode='static')\n"
   ]
  },
  {
   "cell_type": "markdown",
   "id": "49bb3f0d-a509-4a23-b008-2cff1ff2febc",
   "metadata": {},
   "source": [
    "Very interesting: I'm seeing pattern formation with equal diffusion coefficients? Could curvature be making that possible? Should revisit this.\n",
    "\n",
    "Figured out why: it was just that I accidentally hard-coded the RD parameters into forward_growth.py. After deleting them the behavior is as expected: equal diffusion constants yield no pattern."
   ]
  },
  {
   "cell_type": "markdown",
   "id": "e3f733bf-b9de-4110-8fa1-4015c7d8f9d1",
   "metadata": {
    "tags": []
   },
   "source": [
    "## Curvature coupling"
   ]
  },
  {
   "cell_type": "code",
   "execution_count": 2,
   "id": "c90d23f7-e786-4ac3-8aec-eff6743ebfac",
   "metadata": {
    "tags": []
   },
   "outputs": [],
   "source": [
    "# import mesh\n",
    "filename = 'inputs/sphere.ply'\n",
    "mesh = pv.read(filename)\n",
    "\n",
    "mesh = mesh.triangulate()\n",
    "mesh = mesh.decimate(0.5)\n",
    "mesh = mesh.triangulate()\n",
    "nx = mesh.n_points\n",
    "\n",
    "# stretch points along z for ellipse\n",
    "# mesh.points[:,2] *= 2\n",
    "\n",
    "# print(mesh.points[:,2].max())\n",
    "# flattens top of sphere\n",
    "for i in range(nx):\n",
    "    z_plane = 0\n",
    "    if mesh.points[i,2] > z_plane:\n",
    "        # mesh.points[i,2] = z_plane - mesh.points[i,2] # pop inward\n",
    "        mesh.points[i,2] = z_plane # flatten\n",
    "\n",
    "# integration params\n",
    "nx = mesh.n_points\n",
    "niter = 1200\n",
    "dt = 0.0001\n",
    "dx = .001 # good for decimated sphere\n",
    "# dx = .2 # good for decimated cow\n",
    "\n",
    "# RD params - coupled to curvature\n",
    "# du = np.ones(nx)*1/5\n",
    "# dv = np.ones(nx)*10/5\n",
    "curv =  mesh.curvature('gaussian')\n",
    "du = 0.2 + 1 * np.array(abs(curv)<1e-16, dtype=float)\n",
    "dv = du.copy() * 10\n",
    "g = 1000 # set to zero to just test diffusion\n",
    "a = 0.126779*0.25\n",
    "b = 0.792366\n",
    "\n",
    "# filenames\n",
    "data_file = 'examples/data/sphere_coupled.npz'\n",
    "output_gif = 'examples/sphere_coupled.gif'\n",
    "               \n",
    "               \n",
    "# pl = pv.Plotter()\n",
    "# _ = pl.add_mesh(mesh, show_edges=True, scalars=mesh.curvature(\"gaussian\"))\n",
    "# _ = pl.add_axes_at_origin(ylabel=None)\n",
    "# pl.camera_position = 'xz'\n",
    "# pl.show()\n"
   ]
  },
  {
   "cell_type": "code",
   "execution_count": 3,
   "id": "07e0cd81-99eb-490d-bce3-d85643a7fe68",
   "metadata": {
    "tags": []
   },
   "outputs": [
    {
     "name": "stdout",
     "output_type": "stream",
     "text": [
      "\n",
      "Growth loop completed.\n",
      "Growth data written to examples/data/sphere_coupled.npz.\n"
     ]
    }
   ],
   "source": [
    "# grow \n",
    "forward_growth.grow_forward(mesh, nx, niter, dt, growth_rate=1/dt, grow=False, grow_from_rule=True, output_file=data_file)"
   ]
  },
  {
   "cell_type": "code",
   "execution_count": 4,
   "id": "a59f3cc6-3814-4356-b6c3-c1108a5573fa",
   "metadata": {
    "tags": []
   },
   "outputs": [
    {
     "name": "stdout",
     "output_type": "stream",
     "text": [
      "Beginning RD integration loop...\n",
      "Iteration 1200/1200 (100%)\n",
      "RD loop completed.\n"
     ]
    }
   ],
   "source": [
    "# integrate RD\n",
    "laps = np.load(data_file)['laps']\n",
    "u_stored, v_stored = forward_growth.rd_forward(du, dv, g, a, b, nx, dx, niter, dt, laps, grow=True, )"
   ]
  },
  {
   "cell_type": "code",
   "execution_count": 9,
   "id": "1855842d-2fc8-45bb-baac-43f838d05a6f",
   "metadata": {
    "tags": []
   },
   "outputs": [
    {
     "name": "stdout",
     "output_type": "stream",
     "text": [
      "Beginning plotting loop...\n",
      "Iteration 1200/1200 (100%)\n",
      "Plotting loop completed.\n",
      "Plotting completed.\n"
     ]
    }
   ],
   "source": [
    "# plot result\n",
    "pts = np.load(data_file)['pts']\n",
    "params = [du, dv, g, a, b, nx, dx, niter, dt]\n",
    "\n",
    "forward_growth.plot_forward(params, mesh, u_stored, pts, niter, nskip=10, output_gif=output_gif, mode='static', cpos='zx')\n"
   ]
  },
  {
   "cell_type": "code",
   "execution_count": null,
   "id": "7a38aa2b-8e8b-4de6-a18c-c1c553bb95e2",
   "metadata": {
    "tags": []
   },
   "outputs": [],
   "source": [
    "du"
   ]
  },
  {
   "cell_type": "code",
   "execution_count": null,
   "id": "181b0de5-0481-4174-a3b9-12eba5a2239c",
   "metadata": {},
   "outputs": [],
   "source": []
  }
 ],
 "metadata": {
  "kernelspec": {
   "display_name": "Python 3 (ipykernel)",
   "language": "python",
   "name": "python3"
  },
  "language_info": {
   "codemirror_mode": {
    "name": "ipython",
    "version": 3
   },
   "file_extension": ".py",
   "mimetype": "text/x-python",
   "name": "python",
   "nbconvert_exporter": "python",
   "pygments_lexer": "ipython3",
   "version": "3.10.12"
  }
 },
 "nbformat": 4,
 "nbformat_minor": 5
}
