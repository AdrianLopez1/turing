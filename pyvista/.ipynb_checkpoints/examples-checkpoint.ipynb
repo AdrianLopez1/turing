{
 "cells": [
  {
   "cell_type": "code",
   "execution_count": 1,
   "id": "9497094d-ac1a-4b1b-8359-ba5c450b3826",
   "metadata": {
    "tags": []
   },
   "outputs": [],
   "source": [
    "import pyvista as pv\n",
    "import numpy as np\n",
    "np.random.seed(0)\n",
    "\n",
    "import forward_growth\n",
    "import inverse_growth"
   ]
  },
  {
   "cell_type": "markdown",
   "id": "3a38adad-f377-42e9-b925-84019ff84442",
   "metadata": {},
   "source": [
    "#### Fast-growing sphere destroys patterns"
   ]
  },
  {
   "cell_type": "code",
   "execution_count": null,
   "id": "9c498d2d-c7a9-4de5-883a-0df55f61a279",
   "metadata": {
    "tags": []
   },
   "outputs": [],
   "source": [
    "# import mesh\n",
    "filename = 'inputs/sphere.ply'\n",
    "mesh = pv.read(filename)\n",
    "\n",
    "mesh = mesh.triangulate()\n",
    "mesh = mesh.decimate(0.7)\n",
    "mesh = mesh.triangulate()\n",
    "\n",
    "# integration params\n",
    "nx = mesh.n_points\n",
    "niter = 1000\n",
    "dt = 0.0001\n",
    "dx = .002/2 # good for decimated sphere\n",
    "\n",
    "# RD params\n",
    "du = 1\n",
    "dv = 10\n",
    "g = 1000 # set to zero to just test diffusion\n",
    "a = 0.126779*0.25\n",
    "b = 1.1\n",
    "\n",
    "# filenames\n",
    "pts_file = 'examples/pts_static_sphere.npy'\n",
    "laps_file = 'examples/laps_static_sphere.npy'\n",
    "output_gif = 'examples/static_sphere.gif'\n"
   ]
  },
  {
   "cell_type": "code",
   "execution_count": null,
   "id": "8f0a7c5f-3013-4623-9dac-1e67e8beb188",
   "metadata": {
    "tags": []
   },
   "outputs": [],
   "source": [
    "# grow sphere\n",
    "forward_growth.grow_forward(mesh, nx, niter, dt, growth_rate=1/dt, grow=True, grow_from_rule=True, pts_output=pts_file, laps_output=laps_file)"
   ]
  },
  {
   "cell_type": "code",
   "execution_count": null,
   "id": "12776728-9dc0-45bb-b43e-5bc5372c3046",
   "metadata": {
    "tags": []
   },
   "outputs": [],
   "source": [
    "# integrate RD\n",
    "laps = np.load(laps_file)\n",
    "u_stored, v_stored = forward_growth.rd_forward(du, dv, g, a, b, nx, dx, niter, dt, laps)"
   ]
  },
  {
   "cell_type": "code",
   "execution_count": null,
   "id": "0aefa43a-d42e-4467-8876-d7b8edba0647",
   "metadata": {
    "tags": []
   },
   "outputs": [],
   "source": [
    "# plot result\n",
    "pts = np.load(pts_file)\n",
    "forward_growth.plot_forward(mesh, u_stored, pts, niter, nskip=2, output_gif=output_gif)\n"
   ]
  },
  {
   "cell_type": "markdown",
   "id": "899e6986-551b-4619-ad96-5d7a697e970d",
   "metadata": {},
   "source": [
    "#### Slow-growing sphere allows pattern to form"
   ]
  },
  {
   "cell_type": "code",
   "execution_count": null,
   "id": "a0e37e8c-eaff-4669-a63e-f23dcc120c4f",
   "metadata": {
    "tags": []
   },
   "outputs": [],
   "source": [
    "# import mesh\n",
    "filename = 'inputs/sphere.ply'\n",
    "mesh = pv.read(filename)\n",
    "\n",
    "mesh = mesh.triangulate()\n",
    "mesh = mesh.decimate(0.7)\n",
    "mesh = mesh.triangulate()\n",
    "\n",
    "# integration params\n",
    "nx = mesh.n_points\n",
    "niter = 1000\n",
    "dt = 0.0001\n",
    "dx = .002/2 # good for decimated sphere\n",
    "\n",
    "# RD params\n",
    "du = 1\n",
    "dv = 10\n",
    "g = 1000 # set to zero to just test diffusion\n",
    "a = 0.126779*0.25\n",
    "b = 1.1\n",
    "\n",
    "# filenames\n",
    "pts_file = 'examples/pts_static_sphere.npy'\n",
    "laps_file = 'examples/laps_static_sphere.npy'\n",
    "output_gif = 'examples/static_sphere.gif'\n"
   ]
  },
  {
   "cell_type": "code",
   "execution_count": null,
   "id": "865f9451-674e-4fd7-8603-92b8388d1ab2",
   "metadata": {
    "tags": []
   },
   "outputs": [],
   "source": [
    "# grow sphere\n",
    "forward_growth.grow_forward(mesh, nx, niter, dt, growth_rate=.01/dt, grow=True, grow_from_rule=True, pts_output=pts_file, laps_output=laps_file)"
   ]
  },
  {
   "cell_type": "code",
   "execution_count": null,
   "id": "df283452-53c9-4457-9927-372dcfd17dfa",
   "metadata": {
    "tags": []
   },
   "outputs": [],
   "source": [
    "# integrate RD\n",
    "laps = np.load(laps_file)\n",
    "u_stored, v_stored = forward_growth.rd_forward(du, dv, g, a, b, nx, dx, niter, dt, laps)"
   ]
  },
  {
   "cell_type": "code",
   "execution_count": null,
   "id": "6450179f-b42f-401c-ae9a-439e4f220289",
   "metadata": {
    "tags": []
   },
   "outputs": [],
   "source": [
    "# plot result\n",
    "pts = np.load(pts_file)\n",
    "forward_growth.plot_forward(mesh, u_stored, pts, niter, nskip=2, output_gif=output_gif)\n"
   ]
  },
  {
   "cell_type": "markdown",
   "id": "fdd0eaf8-57ad-4b01-ae68-d07bbfd60338",
   "metadata": {},
   "source": [
    "#### Spots/stripes on static cow"
   ]
  },
  {
   "cell_type": "code",
   "execution_count": 13,
   "id": "2ad19f2e-c354-4601-b589-48c505fdb54f",
   "metadata": {
    "tags": []
   },
   "outputs": [],
   "source": [
    "# import mesh\n",
    "filename = 'inputs/cow.vtp'\n",
    "mesh = pv.read(filename)\n",
    "\n",
    "mesh = mesh.triangulate()\n",
    "mesh = mesh.decimate(0.7)\n",
    "mesh = mesh.triangulate()\n",
    "\n",
    "# integration params\n",
    "nx = mesh.n_points\n",
    "niter = 1000\n",
    "dt = 0.0001\n",
    "dx = .2 # good for decimated cow\n",
    "\n",
    "# RD params\n",
    "du = 1\n",
    "dv = 10\n",
    "g = 1000 # set to zero to just test diffusion\n",
    "a = 0.126779*0.25\n",
    "b = 0.792366\n",
    "\n",
    "# filenames\n",
    "data_file = 'examples/data/cow_2.npz'\n",
    "output_gif = 'examples/cow_2.gif'\n"
   ]
  },
  {
   "cell_type": "code",
   "execution_count": 14,
   "id": "f3a95a22-7f88-449c-8e14-fbfa625dac94",
   "metadata": {
    "tags": []
   },
   "outputs": [
    {
     "name": "stdout",
     "output_type": "stream",
     "text": [
      "\n",
      "Growth loop completed.\n"
     ]
    }
   ],
   "source": [
    "# grow sphere\n",
    "forward_growth.grow_forward(mesh, nx, niter, dt, growth_rate=1/dt, grow=False, grow_from_rule=True, output_file=data_file)\n"
   ]
  },
  {
   "cell_type": "code",
   "execution_count": 15,
   "id": "6bea99e1-ddcc-46a8-8208-dca008aad4c1",
   "metadata": {
    "tags": []
   },
   "outputs": [
    {
     "name": "stdout",
     "output_type": "stream",
     "text": [
      "Beginning RD integration loop...\n",
      "Iteration 1000/1000 (100%)\n",
      "RD loop completed.\n"
     ]
    }
   ],
   "source": [
    "# integrate RD\n",
    "laps = np.load(data_file)['laps']\n",
    "u_stored, v_stored = forward_growth.rd_forward(du, dv, g, a, b, nx, dx, niter, dt, laps)"
   ]
  },
  {
   "cell_type": "code",
   "execution_count": 16,
   "id": "ee92d831-4e21-4cc4-bcc5-f2c71451080b",
   "metadata": {
    "tags": []
   },
   "outputs": [
    {
     "name": "stdout",
     "output_type": "stream",
     "text": [
      "Beginning plotting loop...\n",
      "Iteration 1000/1000 (100%)\n",
      "Plotting loop completed.\n",
      "Plotting completed.\n"
     ]
    }
   ],
   "source": [
    "# plot result\n",
    "pts = np.load(data_file)['pts']\n",
    "forward_growth.plot_forward(mesh, u_stored, pts, niter, nskip=10, output_gif=output_gif)\n"
   ]
  },
  {
   "cell_type": "code",
   "execution_count": null,
   "id": "fc6056ac-1e62-46ad-a735-ef3d61e18ab6",
   "metadata": {},
   "outputs": [],
   "source": []
  }
 ],
 "metadata": {
  "kernelspec": {
   "display_name": "Python 3 (ipykernel)",
   "language": "python",
   "name": "python3"
  },
  "language_info": {
   "codemirror_mode": {
    "name": "ipython",
    "version": 3
   },
   "file_extension": ".py",
   "mimetype": "text/x-python",
   "name": "python",
   "nbconvert_exporter": "python",
   "pygments_lexer": "ipython3",
   "version": "3.10.12"
  }
 },
 "nbformat": 4,
 "nbformat_minor": 5
}
