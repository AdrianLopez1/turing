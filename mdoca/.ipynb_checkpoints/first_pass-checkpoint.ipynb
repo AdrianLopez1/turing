{
 "cells": [
  {
   "cell_type": "markdown",
   "id": "8fe49ae1-a426-4ea8-a423-8aebd1ce5620",
   "metadata": {
    "tags": []
   },
   "source": [
    "Goal: Implement MDOCA (quick method for finding optimal parameters in Turing eqns) from Garvie 2010.\n",
    "\n",
    "Will start with kinetics i) (Schnakenberg) in 1D."
   ]
  },
  {
   "cell_type": "code",
   "execution_count": 38,
   "id": "cfb7ae03-6bd5-4abd-8ece-8ff99cf75cf8",
   "metadata": {
    "tags": []
   },
   "outputs": [],
   "source": [
    "import numpy as np\n",
    "import scipy.sparse as sp\n",
    "import matplotlib.pyplot as plt"
   ]
  },
  {
   "cell_type": "code",
   "execution_count": 39,
   "id": "708f5a6e-c9e2-4a66-9169-9d75edbfd014",
   "metadata": {
    "tags": []
   },
   "outputs": [],
   "source": [
    "def step_ae(p, q,):\n",
    "    \"\"\"\n",
    "    Steps Lagrange multipliers p and q backwards in time\n",
    "    according to the adjoint equations (AE).\n",
    "    \"\"\"\n",
    "    \n",
    "    # solution of semi-implicit equation (12)\n",
    "    \n",
    "    \n",
    "    return p, q\n",
    "\n",
    "\n",
    "def step_sgu(c1, c2,):\n",
    "    \"\"\"\n",
    "    Steps constants c1 and c2 in the direction that decreases\n",
    "    J, according to the standard gradient update (SGU).\n",
    "    \"\"\"\n",
    "    \n",
    "    return c1, c2\n",
    "\n",
    "def eval_j(u, v, ut, vt, c1, c2, g1, g2, d1, d2):\n",
    "    \"\"\"\n",
    "    Evaluates the objective functional J.\n",
    "    \"\"\"\n",
    "    \n",
    "    j = np.sum(g1*(u-ut)**2 + g2*(v-vt)**2)*dx + d1*c1**2 + d2*c2**2 \n",
    "    j*= 0.5\n",
    "    \n",
    "    return j\n"
   ]
  },
  {
   "cell_type": "markdown",
   "id": "f3f68985-64bc-4af4-b5a9-cb148e8a3b65",
   "metadata": {
    "tags": []
   },
   "source": [
    "## Forward Problem"
   ]
  },
  {
   "cell_type": "markdown",
   "id": "9e84be3f-33a6-432a-969a-26ef20d3fa4f",
   "metadata": {},
   "source": [
    "GMRES for semi implicit DE"
   ]
  },
  {
   "cell_type": "code",
   "execution_count": 3,
   "id": "5c1f7f86-a3a3-4c06-a1ef-f3514d89e353",
   "metadata": {
    "tags": []
   },
   "outputs": [],
   "source": [
    "import scipy.sparse as sp\n",
    "\n",
    "def step_se(u, v, a, b, nsteps=1):\n",
    "    \"\"\"\n",
    "    Steps morphogen concentrations u and v forwards in time\n",
    "    according to the system equations (SE).\n",
    "    \"\"\"\n",
    "    \n",
    "    for i in range(nsteps):\n",
    "        # nonlinear reaction terms\n",
    "        # for u: u(n)*u(n+1)*v(n)\n",
    "        u_nonlin = sp.eye(nx)\n",
    "        u_nonlin.setdiag(u*v)\n",
    "\n",
    "        # for v: u(n)^2*v(n+1)\n",
    "        v_nonlin = sp.eye(nx)\n",
    "        v_nonlin.setdiag(u**2)\n",
    "\n",
    "\n",
    "        # linear operators for gmres\n",
    "        A_u = iden - dt*( du*lap - g*iden + g*u_nonlin )\n",
    "        b_u = u + dt*g*a\n",
    "\n",
    "        A_v = iden - dt*( dv*lap - g*v_nonlin )\n",
    "        b_v = v + dt*g*b\n",
    "\n",
    "\n",
    "        # Run GMRES to solve for next timestep\n",
    "        u, info_u = sp.linalg.gmres(A_u, b_u)\n",
    "        v, info_v = sp.linalg.gmres(A_v, b_v)\n",
    "        \n",
    "        # Should catch a convergence failure here using info_u and info_v\n",
    "\n",
    "    return u, v\n",
    "\n",
    "nx = 25\n",
    "du = 1\n",
    "dv = 10\n",
    "g = 1000\n",
    "a = 0.126779*0.25\n",
    "b = .792366\n",
    "dt = 0.0001\n",
    "dx = 0.05\n",
    "\n",
    "# initialize near steady-state solution\n",
    "u = np.ones(nx)*(a+b)\n",
    "u[4] *= 1.1 # perturbation to test\n",
    "v = np.ones(nx)*(b/(a+b)**2)\n",
    "\n",
    "# finite difference for laplacian\n",
    "# boundaries currently periodic \n",
    "lap = sp.diags([-2,1,1,1,1], offsets=[0,1,-1,nx-1,1-nx], shape=(nx,nx)) / dx**2\n",
    "\n",
    "# identity matrix\n",
    "iden = sp.eye(nx)\n",
    "\n",
    "\n",
    "# integrate over time, solving using GMRES at each timestep\n",
    "niter = 1000\n",
    "\n",
    "u_stored = np.zeros((nx, niter+1))\n",
    "u_stored[:,0] = u\n",
    "\n",
    "v_stored = np.zeros((nx, niter+1))\n",
    "v_stored[:,0] = v\n",
    "\n",
    "for i in range(niter):\n",
    "    # Run GMRES to solve for next timestep\n",
    "    u, v = step_se(u,v, a,b)\n",
    "\n",
    "    # store for later animation\n",
    "    u_stored[:,i+1] = u\n",
    "    v_stored[:,i+1] = v\n",
    "\n",
    "# plt.show()\n",
    "# print(u, info)"
   ]
  },
  {
   "cell_type": "code",
   "execution_count": 2,
   "id": "89b2eccb-9ddd-48f9-8a49-550158733bfa",
   "metadata": {
    "tags": []
   },
   "outputs": [
    {
     "ename": "NameError",
     "evalue": "name 'u_stored' is not defined",
     "output_type": "error",
     "traceback": [
      "\u001b[0;31m---------------------------------------------------------------------------\u001b[0m",
      "\u001b[0;31mNameError\u001b[0m                                 Traceback (most recent call last)",
      "Cell \u001b[0;32mIn[2], line 3\u001b[0m\n\u001b[1;32m      1\u001b[0m \u001b[38;5;28;01mfrom\u001b[39;00m \u001b[38;5;21;01manimation\u001b[39;00m \u001b[38;5;28;01mimport\u001b[39;00m animate_2d_array\n\u001b[0;32m----> 3\u001b[0m animate_2d_array(\u001b[43mu_stored\u001b[49m[:,::\u001b[38;5;241m10\u001b[39m], interval\u001b[38;5;241m=\u001b[39m\u001b[38;5;241m1\u001b[39m)\n\u001b[1;32m      5\u001b[0m \u001b[38;5;66;03m# plt.plot(u_stored[:,-1])\u001b[39;00m\n",
      "\u001b[0;31mNameError\u001b[0m: name 'u_stored' is not defined"
     ]
    }
   ],
   "source": [
    "from animation import animate_2d_array\n",
    "\n",
    "animate_2d_array(u_stored[:,::10], interval=1)\n",
    "\n",
    "# plt.plot(u_stored[:,-1])"
   ]
  },
  {
   "cell_type": "code",
   "execution_count": 5,
   "id": "a0c45f32-1a7d-4e42-a8ba-5f089b35886b",
   "metadata": {
    "tags": []
   },
   "outputs": [],
   "source": [
    "# animate_2d_array(v_stored[:,::100], interval=1)"
   ]
  },
  {
   "cell_type": "markdown",
   "id": "46c252c7-455b-452d-983a-ba5ca1502016",
   "metadata": {},
   "source": [
    "1D Forward Problem seems to work well; we see a finite-wavelength instability for certain parameters."
   ]
  },
  {
   "cell_type": "markdown",
   "id": "320aba0e-15a7-4ef0-90f9-e955fd67a00f",
   "metadata": {},
   "source": [
    "## Inverse Problem"
   ]
  },
  {
   "cell_type": "markdown",
   "id": "369386e9-baaa-4535-bcf1-c32c47fe1f1b",
   "metadata": {},
   "source": [
    "Now try MDOCA for this 1D case. "
   ]
  },
  {
   "cell_type": "code",
   "execution_count": 6,
   "id": "fc348caa-6667-40ba-b3ce-a1718e6b0cc8",
   "metadata": {
    "tags": []
   },
   "outputs": [],
   "source": [
    "# parameters\n",
    "nx = 25\n",
    "du = 1\n",
    "dv = 10\n",
    "g = 1000\n",
    "a = 0.126779*0.25\n",
    "b = .792366\n",
    "dt = 0.0001\n",
    "dx = 0.05\n",
    "\n",
    "g1, g2 = 1e10, 1e10\n",
    "d1, d2 = 1, 1"
   ]
  },
  {
   "cell_type": "code",
   "execution_count": 7,
   "id": "c768626f-9087-4a5a-8a7d-23e98f241ee5",
   "metadata": {
    "tags": []
   },
   "outputs": [
    {
     "name": "stdout",
     "output_type": "stream",
     "text": [
      "convergence to optimal solution reached in 16 iterations\n",
      "-0.0001370611714986078\n",
      "-5.911347417320023e-05\n"
     ]
    }
   ],
   "source": [
    "\n",
    "# use steady-state of previous forward problem solution as target function\n",
    "u_t, v_t = u_stored[:,-1], v_stored[:,-1]\n",
    "\n",
    "# iteration parameters\n",
    "l = 1e-5\n",
    "niter = 500\n",
    "jtol = 100\n",
    "ltol = 1e-5 # curently unused\n",
    "c1, c2 = a*1e3, b*1 # initial guess\n",
    "\n",
    "\n",
    "def descend_c(u_t, v_t, c1, c2, l, jtol):\n",
    "    '''Find optimal c1, c2 by descending gradient of J'''\n",
    "    \n",
    "    # solve SE for one step, starting at target\n",
    "    u1, v1 = step_se(u_t, v_t, c1, c2)\n",
    "\n",
    "    # evaluate cost after this timestep\n",
    "    j1 = eval_j(u1, v1, u_t, v_t, c1, c2, g1, g2, d1, d2)\n",
    "\n",
    "\n",
    "    for i in range(niter):\n",
    "\n",
    "        # step c1, c2 and evaluate cost gradient\n",
    "        increment = 1e-6\n",
    "        c1s, c2s = c1+increment, c2+increment\n",
    "\n",
    "        u1s1, v1s1 = step_se(u_t, v_t, c1s, c2)\n",
    "        u1s2, v1s2 = step_se(u_t, v_t, c1, c2s)\n",
    "\n",
    "        j1s1 = eval_j(u1s1, v1s1, u_t, v_t, c1s, c2, g1, g2, d1, d2)\n",
    "        j1s2 = eval_j(u1s2, v1s2, u_t, v_t, c1, c2s, g1, g2, d1, d2)\n",
    "\n",
    "        jgrad = ((j1s1-j1)/increment, (j1s2-j1)/increment)\n",
    "\n",
    "        # step both in direction opposite to gradient\n",
    "        c1_new = c1-l*jgrad[0]\n",
    "        c2_new = c2-l*jgrad[1]\n",
    "\n",
    "        # test whether j actually decreased;\n",
    "        # if not then change step size and do again\n",
    "        # if yes then update c1, c2\n",
    "\n",
    "        u1_new, v1_new = step_se(u_t, v_t, c1_new, c2_new)\n",
    "        j1_new = eval_j(u1_new, v1_new, u_t, v_t, c1_new, c2_new, g1, g2, d1, d2)\n",
    "\n",
    "        if j1_new > j1:\n",
    "            l /= 10\n",
    "\n",
    "        else:\n",
    "            l *= 3/2\n",
    "            c1, c2 = c1_new, c2_new\n",
    "            u1, u2 = u1_new, v1_new\n",
    "            j1 = j1_new\n",
    "\n",
    "\n",
    "        if j1_new < jtol:\n",
    "            # plt.plot(u1_new)\n",
    "            print('convergence to optimal solution reached in {} iterations'.format(i))\n",
    "            break\n",
    "\n",
    "        if i==niter-1: \n",
    "            # plt.plot(u1_new)\n",
    "            print(j1)\n",
    "            print('failed to converge after {} iterations'.format(niter))\n",
    "\n",
    "    return c1, c2\n",
    "\n",
    "c1, c2 = descend_c(u_t, v_t, c1, c2, l, jtol)\n",
    "\n",
    "print(a - c1)\n",
    "print(b - c2)\n",
    "\n",
    "# plt.plot(u_t, 'k.')\n",
    "# plt.show()"
   ]
  },
  {
   "cell_type": "markdown",
   "id": "37f68279-af3a-4ac9-ba3d-757a7e75a681",
   "metadata": {
    "tags": []
   },
   "source": [
    "Now try 2D. Laplacian is a bit harder to handle, and we'll need a larger space loop. \n",
    "Could handle Laplacian by unraveling arrays; normally would be a rank-4 tensor, unraveling can convert to rank two."
   ]
  },
  {
   "cell_type": "code",
   "execution_count": 40,
   "id": "8d299100-248e-4ff9-98cc-961cd0cd691b",
   "metadata": {},
   "outputs": [],
   "source": [
    "# testing 2d laplacian as sparse array\n",
    "import scipy.sparse as sp\n",
    "\n",
    "# using finite difference method over grid\n",
    "# should also look into mesh method\n",
    "nx, ny = 10, 10\n",
    "\n",
    "lap = np.zeros((nx, ny, nx, ny))\n",
    "\n",
    "for k in range(nx):\n",
    "    for l in range(ny):\n",
    "        \n",
    "        lap[(k+1)%nx, l, k, l] = 1\n",
    "        lap[(k-1)%nx, l, k, l] = 1\n",
    "        \n",
    "        lap[k, (l+1)%ny, k, l] = 1\n",
    "        lap[k, (l-1)%ny, k, l] = 1\n",
    "        \n",
    "        lap[k, l, k, l] = -4\n",
    "        \n",
    "lap_2d = lap.reshape(nx*ny, nx*ny)\n",
    "        \n",
    "inp = np.zeros((nx,ny))\n",
    "inp[-1,0] += 1\n",
    "\n",
    "inp_1d = inp.reshape(nx*ny)\n",
    "\n",
    "\n",
    "# out = np.einsum('ijkl,kl->ij', lap, inp)\n",
    "\n",
    "out_1d = lap_2d @ inp_1d\n",
    "\n",
    "out = out_1d.reshape(nx,ny)\n",
    "\n",
    "# plt.imshow(out)\n",
    "# plt.colorbar()\n",
    "# plt.show()\n",
    "        \n",
    "# this seems to work well, now let's try using it to do the 2d forward problem.\n",
    "\n",
    "lap_sp = sp.csr_matrix(lap_2d)\n",
    "\n",
    "# print(lap_sp)"
   ]
  },
  {
   "cell_type": "code",
   "execution_count": 44,
   "id": "c7dbac5c-8aef-4014-af74-f0b89d18d7db",
   "metadata": {
    "tags": []
   },
   "outputs": [],
   "source": [
    "# 2d forward problem\n",
    "\n",
    "def step_se_2d(u, v, a, b, nsteps=1):\n",
    "    \"\"\"\n",
    "    Steps morphogen concentrations u and v forwards in time\n",
    "    according to the system equations (SE).\n",
    "    \"\"\"\n",
    "\n",
    "    for step in range(nsteps):\n",
    "        # nonlinear reaction terms\n",
    "        # for u: u(n)*u(n+1)*v(n)\n",
    "        u_nonlin = sp.eye(nx*ny)\n",
    "        u_nonlin.setdiag(u*v)\n",
    "\n",
    "        # for v: u(n)^2*v(n+1)\n",
    "        v_nonlin = sp.eye(nx*ny)\n",
    "        v_nonlin.setdiag(u**2)\n",
    "\n",
    "\n",
    "        # linear operators for gmres\n",
    "        A_u = iden - dt*( du*lap - g*iden + g*u_nonlin )\n",
    "        b_u = u + dt*g*a\n",
    "\n",
    "        A_v = iden - dt*( dv*lap - g*v_nonlin )\n",
    "        b_v = v + dt*g*b\n",
    "\n",
    "\n",
    "        # Run GMRES to solve for next timestep\n",
    "        u, info_u = sp.linalg.gmres(A_u, b_u, maxiter=1000)\n",
    "        v, info_v = sp.linalg.gmres(A_v, b_v, maxiter=1000)\n",
    "        \n",
    "        # Should catch a convergence failure here using info_u and info_v\n",
    "        if info_u>0 or info_v>0:\n",
    "            print(\"Warning: GMRES convergence failed\")\n",
    "\n",
    "    return u, v\n",
    "\n",
    "# spots params\n",
    "nx = 50\n",
    "ny = 50\n",
    "du = 1\n",
    "dv = 10\n",
    "g = 1000\n",
    "a = 0.126779*0.25\n",
    "b = 0.792366\n",
    "dt = 0.0001\n",
    "dx = 0.05\n",
    "\n",
    "# # stripes params\n",
    "# g = 10\n",
    "# dv = 5\n",
    "\n",
    "# a = (3.6-3.1)/2\n",
    "# b = (3.6+3.1)/2\n",
    "\n",
    "# initialize near steady-state solution\n",
    "# all matrices are unraveled\n",
    "u = np.ones(nx*ny)*(a+b)\n",
    "# u[int(nx*ny/4)] *= 1.1 # perturbation to test\n",
    "u += np.random.normal(scale=.1, size=nx*ny) # white noise to test\n",
    "v = np.ones(nx*ny)*(b/(a+b)**2)\n",
    "\n",
    "# finite difference for laplacian\n",
    "# boundaries currently periodic \n",
    "lap = np.zeros((nx, ny, nx, ny))\n",
    "\n",
    "for k in range(nx):\n",
    "    for l in range(ny):\n",
    "\n",
    "        lap[(k+1)%nx, l, k, l] = 1\n",
    "        lap[(k-1)%nx, l, k, l] = 1\n",
    "\n",
    "        lap[k, (l+1)%ny, k, l] = 1\n",
    "        lap[k, (l-1)%ny, k, l] = 1\n",
    "\n",
    "        lap[k, l, k, l] = -4\n",
    "\n",
    "lap_2d = lap.reshape(nx*ny, nx*ny)\n",
    "lap = sp.csr_matrix(lap_2d)/dx**2\n",
    "\n",
    "\n",
    "# identity matrix\n",
    "iden = sp.eye(nx*ny)\n",
    "\n",
    "\n",
    "# integrate over time, solving using GMRES at each timestep\n",
    "niter = 1000\n",
    "\n",
    "u_stored = np.zeros((nx*ny, niter+1))\n",
    "u_stored[:,0] = u\n",
    "\n",
    "v_stored = np.zeros((nx*ny, niter+1))\n",
    "v_stored[:,0] = v\n",
    "\n",
    "for i in range(niter):\n",
    "    # if i%100==1: print(i-1)\n",
    "    # Run GMRES to solve for next timestep\n",
    "    u, v = step_se_2d(u,v, a,b)\n",
    "\n",
    "    # store for later animation\n",
    "    u_stored[:,i+1] = u\n",
    "    v_stored[:,i+1] = v"
   ]
  },
  {
   "cell_type": "code",
   "execution_count": 45,
   "id": "397d90cd-c8f4-4221-8f1e-b16fff2517ad",
   "metadata": {
    "tags": []
   },
   "outputs": [
    {
     "data": {
      "image/png": "[encoded data removed]",
      "text/plain": [
       "<Figure size 640x480 with 2 Axes>"
      ]
     },
     "metadata": {},
     "output_type": "display_data"
    }
   ],
   "source": [
    "# Reshape arrays for plotting\n",
    "u_stored_2d = u_stored.reshape(nx, ny, niter+1)\n",
    "plt.imshow(u_stored_2d[:,:,-1])\n",
    "plt.colorbar()\n",
    "plt.show()\n",
    "# print(u, info)"
   ]
  },
  {
   "cell_type": "code",
   "execution_count": 31,
   "id": "a629b219-894a-492f-9f3b-1a06928cf1f2",
   "metadata": {
    "tags": []
   },
   "outputs": [
    {
     "data": {
      "text/html": [
       "<video src=\"animation.mp4\" controls  >\n",
       "      Your browser does not support the <code>video</code> element.\n",
       "    </video>"
      ],
      "text/plain": [
       "<IPython.core.display.Video object>"
      ]
     },
     "execution_count": 31,
     "metadata": {},
     "output_type": "execute_result"
    }
   ],
   "source": [
    "from animation import animate_3d_function_small\n",
    "\n",
    "animate_3d_function_small(u_stored_2d[:,:,::1], interval=1)"
   ]
  },
  {
   "cell_type": "markdown",
   "id": "828332e5-6c66-4ef2-883f-4007555bd248",
   "metadata": {},
   "source": [
    "Now try 2d inverse problem via MDOCA. Should be pretty much the same as 1d after flattening.\n",
    "\n",
    "Maybe I don't even need a new function."
   ]
  },
  {
   "cell_type": "code",
   "execution_count": 12,
   "id": "3b200688-b665-460b-883c-5a952d23bce5",
   "metadata": {
    "tags": []
   },
   "outputs": [],
   "source": [
    "# parameters\n",
    "g1, g2 = 1e10, 1e10\n",
    "d1, d2 = 1, 1"
   ]
  },
  {
   "cell_type": "code",
   "execution_count": 14,
   "id": "2e474ad5-b821-4c2e-a4ba-5daad738a4ed",
   "metadata": {
    "tags": []
   },
   "outputs": [
    {
     "name": "stdout",
     "output_type": "stream",
     "text": [
      "3310456428.099467 3.669830300539999e+25\n",
      "3310456428.099467 3.66982967316141e+23\n",
      "3310456428.099467 3.6698233993784795e+21\n",
      "3310456428.099467 3.6697606618441437e+19\n",
      "3310456428.099467 3.669133315996399e+17\n",
      "3310456428.099467 3662862807073242.0\n",
      "3310456428.099467 36004526771562.71\n",
      "3310456428.099467 300584796241.5712\n",
      "3310456428.099467 9415420.959357526\n",
      "9415420.959357526 3248208.5756477034\n",
      "3248208.5756477034 6153801.804928323\n",
      "3248208.5756477034 1908171.3728180942\n",
      "1908171.3728180942 820337.7886020931\n",
      "820337.7886020931 219033.85170101596\n",
      "219033.85170101596 59654.81087456649\n",
      "convergence to optimal solution reached in 14 iterations\n",
      "-8.186885177177e-05\n",
      "-0.0011125579065273117\n"
     ]
    }
   ],
   "source": [
    "\n",
    "# use steady-state of previous forward problem solution as target function\n",
    "u_t, v_t = u_stored[:,-1], v_stored[:,-1]\n",
    "\n",
    "# iteration parameters\n",
    "l = 1e-2\n",
    "niter = 500\n",
    "jtol = 1e5\n",
    "ltol = 1e-5 # curently unused\n",
    "c1, c2 = a*2, b*2 # initial guess\n",
    "\n",
    "\n",
    "def descend_c_2d(u_t, v_t, c1, c2, l, jtol):\n",
    "    '''Find optimal c1, c2 by descending gradient of J'''\n",
    "    \n",
    "    # solve SE for one step, starting at target\n",
    "    u1, v1 = step_se_2d(u_t, v_t, c1, c2)\n",
    "\n",
    "    # evaluate cost after this timestep\n",
    "    j1 = eval_j(u1, v1, u_t, v_t, c1, c2, g1, g2, d1, d2)\n",
    "\n",
    "\n",
    "    for i in range(niter):\n",
    "\n",
    "        # step c1, c2 and evaluate cost gradient\n",
    "        increment = 1e-6\n",
    "        c1s, c2s = c1+increment, c2+increment\n",
    "\n",
    "        u1s1, v1s1 = step_se_2d(u_t, v_t, c1s, c2)\n",
    "        u1s2, v1s2 = step_se_2d(u_t, v_t, c1, c2s)\n",
    "\n",
    "        j1s1 = eval_j(u1s1, v1s1, u_t, v_t, c1s, c2, g1, g2, d1, d2)\n",
    "        j1s2 = eval_j(u1s2, v1s2, u_t, v_t, c1, c2s, g1, g2, d1, d2)\n",
    "\n",
    "        jgrad = ((j1s1-j1)/increment, (j1s2-j1)/increment)\n",
    "\n",
    "        # step both in direction opposite to gradient\n",
    "        c1_new = c1-l*jgrad[0]\n",
    "        c2_new = c2-l*jgrad[1]\n",
    "\n",
    "        # test whether j actually decreased;\n",
    "        # if not then change step size and do again\n",
    "        # if yes then update c1, c2\n",
    "\n",
    "        u1_new, v1_new = step_se_2d(u_t, v_t, c1_new, c2_new)\n",
    "        j1_new = eval_j(u1_new, v1_new, u_t, v_t, c1_new, c2_new, g1, g2, d1, d2)\n",
    "        \n",
    "        print(j1,j1_new)\n",
    "\n",
    "        if j1_new > j1:\n",
    "            l /= 10\n",
    "\n",
    "        else:\n",
    "            l *= 3/2\n",
    "            c1, c2 = c1_new, c2_new\n",
    "            u1, u2 = u1_new, v1_new\n",
    "            j1 = j1_new\n",
    "\n",
    "\n",
    "        if j1 < jtol:\n",
    "            # plt.plot(u1_new)\n",
    "            print('convergence to optimal solution reached in {} iterations'.format(i))\n",
    "            break\n",
    "\n",
    "        if i==niter-1: \n",
    "            # plt.plot(u1_new)\n",
    "            print(j1)\n",
    "            print('failed to converge after {} iterations'.format(niter))\n",
    "\n",
    "    return c1, c2\n",
    "\n",
    "c1, c2 = descend_c_2d(u_t, v_t, c1, c2, l, jtol)\n",
    "\n",
    "print(a - c1)\n",
    "print(b - c2)\n",
    "\n",
    "# plt.plot(u_t, 'k.')\n",
    "# plt.show()"
   ]
  },
  {
   "cell_type": "markdown",
   "id": "f6865216-31c8-4345-ab33-68a635d20cdb",
   "metadata": {
    "tags": []
   },
   "source": [
    "Seems to work!"
   ]
  },
  {
   "cell_type": "markdown",
   "id": "d69b7b3e-fb1a-441f-9381-9d3a79b473cc",
   "metadata": {},
   "source": [
    "Next goal is to get all these working on a mesh (use mesh laplacian?)."
   ]
  },
  {
   "cell_type": "code",
   "execution_count": null,
   "id": "fdd9cd7d-cdfc-4f02-b149-f3bba901f8e4",
   "metadata": {},
   "outputs": [],
   "source": []
  }
 ],
 "metadata": {
  "kernelspec": {
   "display_name": "Python 3 (ipykernel)",
   "language": "python",
   "name": "python3"
  },
  "language_info": {
   "codemirror_mode": {
    "name": "ipython",
    "version": 3
   },
   "file_extension": ".py",
   "mimetype": "text/x-python",
   "name": "python",
   "nbconvert_exporter": "python",
   "pygments_lexer": "ipython3",
   "version": "3.10.12"
  }
 },
 "nbformat": 4,
 "nbformat_minor": 5
}
